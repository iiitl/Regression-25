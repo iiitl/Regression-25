{
  "nbformat": 4,
  "nbformat_minor": 0,
  "metadata": {
    "colab": {
      "provenance": []
    },
    "kernelspec": {
      "name": "python3",
      "display_name": "Python 3"
    },
    "language_info": {
      "name": "python"
    }
  },
  "cells": [
    {
      "cell_type": "code",
      "execution_count": 1,
      "metadata": {
        "colab": {
          "base_uri": "https://localhost:8080/"
        },
        "id": "BR-34Op9Vmj-",
        "outputId": "e787dc86-6109-4386-d1f4-01c7c412dcdf"
      },
      "outputs": [
        {
          "output_type": "stream",
          "name": "stdout",
          "text": [
            "[{'winery': 'Pago de Carraovejas', 'wine': 'El Anejon', 'year': '2016', 'rating': '0.9999999999999991', 'num_reviews': '0.38201246660730187', 'country': 'Espana', 'region': 'Ribera del Duero', 'price': '0.43241484052939905', 'type': 'Ribera Del Duero Red', 'body': '1.0', 'acidity': '0.0'}, {'winery': 'Pago de Carraovejas', 'wine': 'Cuesta de Las Liebres', 'year': '2015', 'rating': '0.9999999999999991', 'num_reviews': '0.30899376669634904', 'country': 'Espana', 'region': 'Ribera del Duero', 'price': '0.6972445215881969', 'type': 'Ribera Del Duero Red', 'body': '1.0', 'acidity': '0.0'}, {'winery': 'Bodegas El Nido', 'wine': 'El Nido', 'year': '2018', 'rating': '0.9999999999999991', 'num_reviews': '0.17097061442564557', 'country': 'Espana', 'region': 'Jumilla', 'price': '0.8250265981803168', 'type': 'Red', 'body': '0.5', 'acidity': '0.0'}]\n"
          ]
        }
      ],
      "source": [
        "import csv\n",
        "\n",
        "# LOADS DATASET AS A LIST OF DICTIONARIES\n",
        "def load_csv(filename):\n",
        "    with open(filename, \"r\") as file:\n",
        "        reader = csv.DictReader(file)\n",
        "        dataset = [row for row in reader]  # EACH ROW AS A DICTIONARY\n",
        "    return dataset\n",
        "\n",
        "# Load the dataset\n",
        "filename = \"/content/final_scaled_df.csv\"  # USING THE DATASET THAT IS SCALED NORMALLY\n",
        "dataset = load_csv(filename)\n",
        "print(dataset[:3])\n"
      ]
    },
    {
      "cell_type": "code",
      "source": [
        "# SPLITTING DATASET USING HASHING\n",
        "import hashlib\n",
        "\n",
        "def train_test_split_hash(dataset, test_size=0.2):\n",
        "\n",
        "    def hash_row(row):\n",
        "        return int(hashlib.md5(str(row).encode()).hexdigest(), 16) % 100  # Converting to 0-99 scale\n",
        "\n",
        "    split_threshold = test_size * 100\n",
        "    test_set = [row for row in dataset if hash_row(row) < split_threshold]\n",
        "    train_set = [row for row in dataset if row not in test_set]\n",
        "\n",
        "    return train_set, test_set\n",
        "train_data, test_data = train_test_split_hash(dataset, test_size=0.25)\n",
        "\n",
        "# Print dataset sizes\n",
        "print(f\"Total Samples: {len(dataset)}\")\n",
        "print(f\"Training Samples: {len(train_data)}\")\n",
        "print(f\"Testing Samples: {len(test_data)}\")\n"
      ],
      "metadata": {
        "colab": {
          "base_uri": "https://localhost:8080/"
        },
        "id": "A83o3TPTWPLC",
        "outputId": "c011e8f8-3b52-4d0b-9153-7a73cb1e70e1"
      },
      "execution_count": 2,
      "outputs": [
        {
          "output_type": "stream",
          "name": "stdout",
          "text": [
            "Total Samples: 1398\n",
            "Training Samples: 1062\n",
            "Testing Samples: 336\n"
          ]
        }
      ]
    },
    {
      "cell_type": "code",
      "source": [
        "train_ratio = len(train_data) / len(dataset)\n",
        "test_ratio = len(test_data) / len(dataset)\n",
        "\n",
        "print(f\"Training Set Ratio: {train_ratio:.2f}\")\n",
        "print(f\"Testing Set Ratio: {test_ratio:.2f}\")\n"
      ],
      "metadata": {
        "colab": {
          "base_uri": "https://localhost:8080/"
        },
        "id": "Y-7fZk3QXbpO",
        "outputId": "b4b95825-63c1-456a-f177-e0b9674fc4e5"
      },
      "execution_count": 3,
      "outputs": [
        {
          "output_type": "stream",
          "name": "stdout",
          "text": [
            "Training Set Ratio: 0.76\n",
            "Testing Set Ratio: 0.24\n"
          ]
        }
      ]
    },
    {
      "cell_type": "code",
      "source": [
        "def save_csv(filename, data):\n",
        "    \"\"\"Saves list of dictionaries into a CSV file.\"\"\"\n",
        "    if len(data) == 0:\n",
        "        print(f\"Warning: No data to save in {filename}\")\n",
        "        return\n",
        "\n",
        "    fieldnames = data[0].keys()  # Extracts column names\n",
        "\n",
        "    with open(filename, \"w\", newline=\"\") as file:\n",
        "        writer = csv.DictWriter(file, fieldnames=fieldnames)\n",
        "        writer.writeheader()\n",
        "        writer.writerows(data)\n",
        "\n",
        "# Save train and test sets\n",
        "save_csv(\"/content/wines_SPA_train.csv\", train_data)\n",
        "save_csv(\"/content/wines_SPA_test.csv\", test_data)\n",
        "\n",
        "print(\"Train and test datasets saved successfully!\")\n"
      ],
      "metadata": {
        "colab": {
          "base_uri": "https://localhost:8080/"
        },
        "id": "iqu8nm8UXgpL",
        "outputId": "a09f3f79-5de8-4786-c5fa-3f2d3b619815"
      },
      "execution_count": 4,
      "outputs": [
        {
          "output_type": "stream",
          "name": "stdout",
          "text": [
            "Train and test datasets saved successfully!\n"
          ]
        }
      ]
    },
    {
      "cell_type": "code",
      "source": [
        "# VERIFYING THE SPLITS\n",
        "import matplotlib.pyplot as plt\n",
        "\n",
        "#BAR CHART FOR TRAIN TEST SPLITS\n",
        "labels = ['Train Set', 'Test Set']\n",
        "sizes = [len(train_data), len(test_data)]\n",
        "\n",
        "plt.figure(figsize=(6, 4))\n",
        "plt.bar(labels, sizes, color=['blue', 'red'])\n",
        "plt.xlabel(\"Dataset Split\")\n",
        "plt.ylabel(\"Number of Samples\")\n",
        "plt.title(\"Train-Test Split Distribution\")\n",
        "plt.show()\n"
      ],
      "metadata": {
        "colab": {
          "base_uri": "https://localhost:8080/",
          "height": 410
        },
        "id": "rhUDW1H-XmNx",
        "outputId": "f8025e62-f93b-48e2-d4fd-cf059da1beb6"
      },
      "execution_count": 7,
      "outputs": [
        {
          "output_type": "display_data",
          "data": {
            "text/plain": [
              "<Figure size 600x400 with 1 Axes>"
            ],
            "image/png": "[encoded data removed]"
          },
          "metadata": {}
        }
      ]
    }
  ]
}