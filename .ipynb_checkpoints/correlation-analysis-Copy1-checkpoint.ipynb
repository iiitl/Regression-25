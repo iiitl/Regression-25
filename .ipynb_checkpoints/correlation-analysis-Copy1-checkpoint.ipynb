{
 "cells": [
  {
   "cell_type": "markdown",
   "id": "d6eff814-c8a0-418e-90d4-590127e94ea9",
   "metadata": {},
   "source": [
    "# Importing Libraries"
   ]
  },
  {
   "cell_type": "code",
   "execution_count": 49,
   "id": "1a0c656f-075d-4dc1-932a-b5bad68627f1",
   "metadata": {},
   "outputs": [],
   "source": [
    "import numpy as np\n",
    "import pandas as pd\n",
    "import matplotlib.pyplot as plt\n",
    "import seaborn as sns"
   ]
  },
  {
   "cell_type": "markdown",
   "id": "9df03f1c-d28c-48db-9b44-a317b268769f",
   "metadata": {},
   "source": [
    "# Importing Dataset"
   ]
  },
  {
   "cell_type": "code",
   "execution_count": 1,
   "id": "171de588-79f4-4081-b936-a1536b3bb45a",
   "metadata": {},
   "outputs": [
    {
     "ename": "NameError",
     "evalue": "name 'pd' is not defined",
     "output_type": "error",
     "traceback": [
      "\u001b[0;31m---------------------------------------------------------------------------\u001b[0m",
      "\u001b[0;31mNameError\u001b[0m                                 Traceback (most recent call last)",
      "Cell \u001b[0;32mIn[1], line 1\u001b[0m\n\u001b[0;32m----> 1\u001b[0m data \u001b[38;5;241m=\u001b[39m pd\u001b[38;5;241m.\u001b[39mread_csv(\u001b[38;5;124m'\u001b[39m\u001b[38;5;124mCleaned_wines_SPA.csv\u001b[39m\u001b[38;5;124m'\u001b[39m)\n\u001b[1;32m      2\u001b[0m data\u001b[38;5;241m.\u001b[39mhead()\n",
      "\u001b[0;31mNameError\u001b[0m: name 'pd' is not defined"
     ]
    }
   ],
   "source": [
    "data = pd.read_csv('Cleaned_wines_SPA.csv')\n",
    "data.head()"
   ]
  },
  {
   "cell_type": "code",
   "execution_count": 51,
   "id": "5f36094b-409b-4205-947d-432e69a72c6e",
   "metadata": {},
   "outputs": [
    {
     "name": "stdout",
     "output_type": "stream",
     "text": [
      "(12610, 25)\n",
      "<class 'pandas.core.frame.DataFrame'>\n",
      "RangeIndex: 12610 entries, 0 to 12609\n",
      "Data columns (total 25 columns):\n",
      " #   Column                Non-Null Count  Dtype  \n",
      "---  ------                --------------  -----  \n",
      " 0   destination           12610 non-null  object \n",
      " 1   passanger             12610 non-null  object \n",
      " 2   weather               12610 non-null  object \n",
      " 3   temperature           12610 non-null  float64\n",
      " 4   time                  12610 non-null  object \n",
      " 5   coupon                12610 non-null  object \n",
      " 6   expiration            12610 non-null  object \n",
      " 7   gender                12610 non-null  object \n",
      " 8   age                   12610 non-null  object \n",
      " 9   maritalStatus         12610 non-null  object \n",
      " 10  has_children          12610 non-null  int64  \n",
      " 11  education             12610 non-null  object \n",
      " 12  occupation            12610 non-null  object \n",
      " 13  income                12610 non-null  object \n",
      " 14  Bar                   12610 non-null  object \n",
      " 15  CoffeeHouse           12610 non-null  object \n",
      " 16  CarryAway             12610 non-null  object \n",
      " 17  RestaurantLessThan20  12610 non-null  object \n",
      " 18  Restaurant20To50      12610 non-null  object \n",
      " 19  toCoupon_GEQ5min      12610 non-null  int64  \n",
      " 20  toCoupon_GEQ15min     12610 non-null  int64  \n",
      " 21  toCoupon_GEQ25min     12610 non-null  int64  \n",
      " 22  direction_same        12610 non-null  int64  \n",
      " 23  direction_opp         12610 non-null  int64  \n",
      " 24  Y                     12610 non-null  int64  \n",
      "dtypes: float64(1), int64(7), object(17)\n",
      "memory usage: 2.4+ MB\n"
     ]
    }
   ],
   "source": [
    "print(data.shape)\n",
    "data.info()"
   ]
  },
  {
   "cell_type": "markdown",
   "id": "11675573-cf87-44dd-9d4e-a7935e4c67fb",
   "metadata": {},
   "source": [
    "# Computing correlation matrix for numerical features"
   ]
  },
  {
   "cell_type": "code",
   "execution_count": 52,
   "id": "2c6ca54f-b4d8-487a-8055-eef5abf2f692",
   "metadata": {},
   "outputs": [
    {
     "name": "stdout",
     "output_type": "stream",
     "text": [
      "                   has_children  toCoupon_GEQ5min  toCoupon_GEQ15min  \\\n",
      "has_children           1.000000               NaN           0.079434   \n",
      "toCoupon_GEQ5min            NaN               NaN                NaN   \n",
      "toCoupon_GEQ15min      0.079434               NaN           1.000000   \n",
      "toCoupon_GEQ25min     -0.010773               NaN           0.321260   \n",
      "direction_same        -0.032353               NaN          -0.302066   \n",
      "direction_opp          0.032353               NaN           0.302066   \n",
      "Y                     -0.045056               NaN          -0.082693   \n",
      "\n",
      "                   toCoupon_GEQ25min  direction_same  direction_opp         Y  \n",
      "has_children               -0.010773       -0.032353       0.032353 -0.045056  \n",
      "toCoupon_GEQ5min                 NaN             NaN            NaN       NaN  \n",
      "toCoupon_GEQ15min           0.321260       -0.302066       0.302066 -0.082693  \n",
      "toCoupon_GEQ25min           1.000000       -0.189900       0.189900 -0.108139  \n",
      "direction_same             -0.189900        1.000000      -1.000000  0.014932  \n",
      "direction_opp               0.189900       -1.000000       1.000000 -0.014932  \n",
      "Y                          -0.108139        0.014932      -0.014932  1.000000  \n"
     ]
    }
   ],
   "source": [
    "numeric_cols = data.select_dtypes(include=int)\n",
    "\n",
    "corr_matrix = numeric_cols.corr()\n",
    "\n",
    "print(corr_matrix)"
   ]
  },
  {
   "cell_type": "markdown",
   "id": "e77426da-2390-482f-9f59-21b1392f3aed",
   "metadata": {},
   "source": [
    "### The Column 'toCoupon_GEQ5min' has NaN values in Correlation matrix as it contains single unique value and it is better to drop the column as it is redundant"
   ]
  },
  {
   "cell_type": "code",
   "execution_count": 53,
   "id": "9d876371-0dc4-4860-9219-1fbf7a1096a7",
   "metadata": {},
   "outputs": [
    {
     "name": "stdout",
     "output_type": "stream",
     "text": [
      "                   has_children  toCoupon_GEQ15min  toCoupon_GEQ25min  \\\n",
      "has_children           1.000000           0.079434          -0.010773   \n",
      "toCoupon_GEQ15min      0.079434           1.000000           0.321260   \n",
      "toCoupon_GEQ25min     -0.010773           0.321260           1.000000   \n",
      "direction_same        -0.032353          -0.302066          -0.189900   \n",
      "direction_opp          0.032353           0.302066           0.189900   \n",
      "Y                     -0.045056          -0.082693          -0.108139   \n",
      "\n",
      "                   direction_same  direction_opp         Y  \n",
      "has_children            -0.032353       0.032353 -0.045056  \n",
      "toCoupon_GEQ15min       -0.302066       0.302066 -0.082693  \n",
      "toCoupon_GEQ25min       -0.189900       0.189900 -0.108139  \n",
      "direction_same           1.000000      -1.000000  0.014932  \n",
      "direction_opp           -1.000000       1.000000 -0.014932  \n",
      "Y                        0.014932      -0.014932  1.000000  \n"
     ]
    }
   ],
   "source": [
    "data.drop('toCoupon_GEQ5min', axis=1, inplace=True)\n",
    "\n",
    "numeric_cols = data.select_dtypes(include=int)\n",
    "\n",
    "corr_matrix = numeric_cols.corr()\n",
    "\n",
    "print(corr_matrix)"
   ]
  },
  {
   "cell_type": "markdown",
   "id": "b75b272a-4fd3-4488-b7c1-1fae57ab5694",
   "metadata": {},
   "source": [
    "# Generating a heatmap using Seaborn to visualize relationships"
   ]
  },
  {
   "cell_type": "code",
   "execution_count": 54,
   "id": "6175f299-75c3-4cf0-8eba-f1f09775764d",
   "metadata": {},
   "outputs": [
    {
     "data": {
      "image/png": "[encoded data removed]",
      "text/plain": [
       "<Figure size 1000x800 with 2 Axes>"
      ]
     },
     "metadata": {},
     "output_type": "display_data"
    }
   ],
   "source": [
    "plt.figure(figsize=(10, 8))  \n",
    "sns.heatmap(corr_matrix, annot=True, cmap='coolwarm', fmt=\".2f\")\n",
    "plt.title(\"Correlation Matrix Heatmap\")\n",
    "plt.show()"
   ]
  },
  {
   "cell_type": "markdown",
   "id": "91360646-6079-4a19-ba71-fa62b981a6ea",
   "metadata": {},
   "source": [
    "# Observations : "
   ]
  },
  {
   "cell_type": "markdown",
   "id": "d7b8876c-ec19-4721-9a5b-c6a10f035c0b",
   "metadata": {},
   "source": [
    "### > The Columns direction_same and direction_opp have complete negative correlation we can drop any one of them to reduce the redundancy\n",
    "### > The Columns toCoupon_GEQ25min, toCoupon_GEQ15min are significantly related to direction_same "
   ]
  },
  {
   "cell_type": "code",
   "execution_count": 55,
   "id": "e7b304e4-f568-475a-ac31-8022ed3e8a61",
   "metadata": {},
   "outputs": [],
   "source": [
    "data.drop('direction_opp', axis=1, inplace=True)"
   ]
  },
  {
   "cell_type": "code",
   "execution_count": 56,
   "id": "10785aff-5cff-4b7b-a3c7-0e0885d22c2f",
   "metadata": {},
   "outputs": [
    {
     "data": {
      "text/html": [
       "<div>\n",
       "<style scoped>\n",
       "    .dataframe tbody tr th:only-of-type {\n",
       "        vertical-align: middle;\n",
       "    }\n",
       "\n",
       "    .dataframe tbody tr th {\n",
       "        vertical-align: top;\n",
       "    }\n",
       "\n",
       "    .dataframe thead th {\n",
       "        text-align: right;\n",
       "    }\n",
       "</style>\n",
       "<table border=\"1\" class=\"dataframe\">\n",
       "  <thead>\n",
       "    <tr style=\"text-align: right;\">\n",
       "      <th></th>\n",
       "      <th>destination</th>\n",
       "      <th>passanger</th>\n",
       "      <th>weather</th>\n",
       "      <th>temperature</th>\n",
       "      <th>time</th>\n",
       "      <th>coupon</th>\n",
       "      <th>expiration</th>\n",
       "      <th>gender</th>\n",
       "      <th>age</th>\n",
       "      <th>maritalStatus</th>\n",
       "      <th>...</th>\n",
       "      <th>income</th>\n",
       "      <th>Bar</th>\n",
       "      <th>CoffeeHouse</th>\n",
       "      <th>CarryAway</th>\n",
       "      <th>RestaurantLessThan20</th>\n",
       "      <th>Restaurant20To50</th>\n",
       "      <th>toCoupon_GEQ15min</th>\n",
       "      <th>toCoupon_GEQ25min</th>\n",
       "      <th>direction_same</th>\n",
       "      <th>Y</th>\n",
       "    </tr>\n",
       "  </thead>\n",
       "  <tbody>\n",
       "    <tr>\n",
       "      <th>0</th>\n",
       "      <td>No Urgent Place</td>\n",
       "      <td>Alone</td>\n",
       "      <td>Sunny</td>\n",
       "      <td>0.375</td>\n",
       "      <td>2PM</td>\n",
       "      <td>Restaurant(&lt;20)</td>\n",
       "      <td>1d</td>\n",
       "      <td>Female</td>\n",
       "      <td>21</td>\n",
       "      <td>Unmarried partner</td>\n",
       "      <td>...</td>\n",
       "      <td>$37500 - $49999</td>\n",
       "      <td>never</td>\n",
       "      <td>never</td>\n",
       "      <td>1~3</td>\n",
       "      <td>4~8</td>\n",
       "      <td>1~3</td>\n",
       "      <td>0</td>\n",
       "      <td>0</td>\n",
       "      <td>0</td>\n",
       "      <td>1</td>\n",
       "    </tr>\n",
       "    <tr>\n",
       "      <th>1</th>\n",
       "      <td>No Urgent Place</td>\n",
       "      <td>Friend(s)</td>\n",
       "      <td>Sunny</td>\n",
       "      <td>0.625</td>\n",
       "      <td>10AM</td>\n",
       "      <td>Coffee House</td>\n",
       "      <td>2h</td>\n",
       "      <td>Female</td>\n",
       "      <td>21</td>\n",
       "      <td>Unmarried partner</td>\n",
       "      <td>...</td>\n",
       "      <td>$37500 - $49999</td>\n",
       "      <td>never</td>\n",
       "      <td>never</td>\n",
       "      <td>1~3</td>\n",
       "      <td>4~8</td>\n",
       "      <td>1~3</td>\n",
       "      <td>0</td>\n",
       "      <td>0</td>\n",
       "      <td>0</td>\n",
       "      <td>0</td>\n",
       "    </tr>\n",
       "    <tr>\n",
       "      <th>2</th>\n",
       "      <td>No Urgent Place</td>\n",
       "      <td>Friend(s)</td>\n",
       "      <td>Sunny</td>\n",
       "      <td>0.625</td>\n",
       "      <td>10AM</td>\n",
       "      <td>Carry out &amp; Take away</td>\n",
       "      <td>2h</td>\n",
       "      <td>Female</td>\n",
       "      <td>21</td>\n",
       "      <td>Unmarried partner</td>\n",
       "      <td>...</td>\n",
       "      <td>$37500 - $49999</td>\n",
       "      <td>never</td>\n",
       "      <td>never</td>\n",
       "      <td>1~3</td>\n",
       "      <td>4~8</td>\n",
       "      <td>1~3</td>\n",
       "      <td>1</td>\n",
       "      <td>0</td>\n",
       "      <td>0</td>\n",
       "      <td>1</td>\n",
       "    </tr>\n",
       "    <tr>\n",
       "      <th>3</th>\n",
       "      <td>No Urgent Place</td>\n",
       "      <td>Friend(s)</td>\n",
       "      <td>Sunny</td>\n",
       "      <td>0.625</td>\n",
       "      <td>2PM</td>\n",
       "      <td>Coffee House</td>\n",
       "      <td>2h</td>\n",
       "      <td>Female</td>\n",
       "      <td>21</td>\n",
       "      <td>Unmarried partner</td>\n",
       "      <td>...</td>\n",
       "      <td>$37500 - $49999</td>\n",
       "      <td>never</td>\n",
       "      <td>never</td>\n",
       "      <td>1~3</td>\n",
       "      <td>4~8</td>\n",
       "      <td>1~3</td>\n",
       "      <td>1</td>\n",
       "      <td>0</td>\n",
       "      <td>0</td>\n",
       "      <td>0</td>\n",
       "    </tr>\n",
       "    <tr>\n",
       "      <th>4</th>\n",
       "      <td>No Urgent Place</td>\n",
       "      <td>Friend(s)</td>\n",
       "      <td>Sunny</td>\n",
       "      <td>0.625</td>\n",
       "      <td>2PM</td>\n",
       "      <td>Coffee House</td>\n",
       "      <td>1d</td>\n",
       "      <td>Female</td>\n",
       "      <td>21</td>\n",
       "      <td>Unmarried partner</td>\n",
       "      <td>...</td>\n",
       "      <td>$37500 - $49999</td>\n",
       "      <td>never</td>\n",
       "      <td>never</td>\n",
       "      <td>1~3</td>\n",
       "      <td>4~8</td>\n",
       "      <td>1~3</td>\n",
       "      <td>1</td>\n",
       "      <td>0</td>\n",
       "      <td>0</td>\n",
       "      <td>0</td>\n",
       "    </tr>\n",
       "  </tbody>\n",
       "</table>\n",
       "<p>5 rows × 23 columns</p>\n",
       "</div>"
      ],
      "text/plain": [
       "       destination  passanger weather  temperature  time  \\\n",
       "0  No Urgent Place      Alone   Sunny        0.375   2PM   \n",
       "1  No Urgent Place  Friend(s)   Sunny        0.625  10AM   \n",
       "2  No Urgent Place  Friend(s)   Sunny        0.625  10AM   \n",
       "3  No Urgent Place  Friend(s)   Sunny        0.625   2PM   \n",
       "4  No Urgent Place  Friend(s)   Sunny        0.625   2PM   \n",
       "\n",
       "                  coupon expiration  gender age      maritalStatus  ...  \\\n",
       "0        Restaurant(<20)         1d  Female  21  Unmarried partner  ...   \n",
       "1           Coffee House         2h  Female  21  Unmarried partner  ...   \n",
       "2  Carry out & Take away         2h  Female  21  Unmarried partner  ...   \n",
       "3           Coffee House         2h  Female  21  Unmarried partner  ...   \n",
       "4           Coffee House         1d  Female  21  Unmarried partner  ...   \n",
       "\n",
       "            income    Bar CoffeeHouse CarryAway RestaurantLessThan20  \\\n",
       "0  $37500 - $49999  never       never       1~3                  4~8   \n",
       "1  $37500 - $49999  never       never       1~3                  4~8   \n",
       "2  $37500 - $49999  never       never       1~3                  4~8   \n",
       "3  $37500 - $49999  never       never       1~3                  4~8   \n",
       "4  $37500 - $49999  never       never       1~3                  4~8   \n",
       "\n",
       "  Restaurant20To50 toCoupon_GEQ15min toCoupon_GEQ25min direction_same  Y  \n",
       "0              1~3                 0                 0              0  1  \n",
       "1              1~3                 0                 0              0  0  \n",
       "2              1~3                 1                 0              0  1  \n",
       "3              1~3                 1                 0              0  0  \n",
       "4              1~3                 1                 0              0  0  \n",
       "\n",
       "[5 rows x 23 columns]"
      ]
     },
     "execution_count": 56,
     "metadata": {},
     "output_type": "execute_result"
    }
   ],
   "source": [
    "data.head()"
   ]
  },
  {
   "cell_type": "code",
   "execution_count": 57,
   "id": "8e7844be-bc44-4c5f-8c9a-dee4f2397f60",
   "metadata": {},
   "outputs": [
    {
     "name": "stdout",
     "output_type": "stream",
     "text": [
      "<class 'pandas.core.frame.DataFrame'>\n",
      "RangeIndex: 12610 entries, 0 to 12609\n",
      "Data columns (total 23 columns):\n",
      " #   Column                Non-Null Count  Dtype  \n",
      "---  ------                --------------  -----  \n",
      " 0   destination           12610 non-null  object \n",
      " 1   passanger             12610 non-null  object \n",
      " 2   weather               12610 non-null  object \n",
      " 3   temperature           12610 non-null  float64\n",
      " 4   time                  12610 non-null  object \n",
      " 5   coupon                12610 non-null  object \n",
      " 6   expiration            12610 non-null  object \n",
      " 7   gender                12610 non-null  object \n",
      " 8   age                   12610 non-null  object \n",
      " 9   maritalStatus         12610 non-null  object \n",
      " 10  has_children          12610 non-null  int64  \n",
      " 11  education             12610 non-null  object \n",
      " 12  occupation            12610 non-null  object \n",
      " 13  income                12610 non-null  object \n",
      " 14  Bar                   12610 non-null  object \n",
      " 15  CoffeeHouse           12610 non-null  object \n",
      " 16  CarryAway             12610 non-null  object \n",
      " 17  RestaurantLessThan20  12610 non-null  object \n",
      " 18  Restaurant20To50      12610 non-null  object \n",
      " 19  toCoupon_GEQ15min     12610 non-null  int64  \n",
      " 20  toCoupon_GEQ25min     12610 non-null  int64  \n",
      " 21  direction_same        12610 non-null  int64  \n",
      " 22  Y                     12610 non-null  int64  \n",
      "dtypes: float64(1), int64(5), object(17)\n",
      "memory usage: 2.2+ MB\n"
     ]
    }
   ],
   "source": [
    "data.info()"
   ]
  },
  {
   "cell_type": "code",
   "execution_count": 58,
   "id": "5c00e21b-4625-4859-a32b-4afe2b49f414",
   "metadata": {},
   "outputs": [],
   "source": [
    "data.to_csv('evenmore-cleaned-in-vehicle-coupon-recommendation.csv')"
   ]
  }
 ],
 "metadata": {
  "kernelspec": {
   "display_name": "Python 3 (ipykernel)",
   "language": "python",
   "name": "python3"
  },
  "language_info": {
   "codemirror_mode": {
    "name": "ipython",
    "version": 3
   },
   "file_extension": ".py",
   "mimetype": "text/x-python",
   "name": "python",
   "nbconvert_exporter": "python",
   "pygments_lexer": "ipython3",
   "version": "3.12.2"
  }
 },
 "nbformat": 4,
 "nbformat_minor": 5
}
