{
  "nbformat": 4,
  "nbformat_minor": 0,
  "metadata": {
    "colab": {
      "provenance": []
    },
    "kernelspec": {
      "name": "python3",
      "display_name": "Python 3"
    },
    "language_info": {
      "name": "python"
    }
  },
  "cells": [
    {
      "cell_type": "code",
      "execution_count": 3,
      "metadata": {
        "id": "F7vGAqaFK0lX"
      },
      "outputs": [],
      "source": [
        "import pandas as pd\n",
        "df = pd.read_csv(\"/content/wines_SPA.csv\")"
      ]
    },
    {
      "cell_type": "code",
      "source": [
        "#changing to numeric values\n",
        "df['year'] = pd.to_numeric(df['year'], errors='coerce')"
      ],
      "metadata": {
        "id": "T7rajm78SN6n"
      },
      "execution_count": 6,
      "outputs": []
    },
    {
      "cell_type": "code",
      "source": [
        "#removes duplicate rows\n",
        "df = df.drop_duplicates()"
      ],
      "metadata": {
        "id": "pgLY-WdTZSRd"
      },
      "execution_count": 24,
      "outputs": []
    },
    {
      "cell_type": "code",
      "source": [
        "#drop column coutry since only one element is there\n",
        "df = df.drop(columns=['country'])"
      ],
      "metadata": {
        "id": "rg70Glsi8nak"
      },
      "execution_count": null,
      "outputs": []
    },
    {
      "cell_type": "code",
      "source": [
        "print(df.dtypes)\n",
        "print(df.describe())\n",
        "print(df.isnull().sum())"
      ],
      "metadata": {
        "colab": {
          "base_uri": "https://localhost:8080/"
        },
        "id": "ckDeDQtLRV6K",
        "outputId": "4d0ae0f7-c3f4-455f-c898-35704bb7e25a"
      },
      "execution_count": 25,
      "outputs": [
        {
          "output_type": "stream",
          "name": "stdout",
          "text": [
            "winery          object\n",
            "wine            object\n",
            "year             int64\n",
            "rating         float64\n",
            "num_reviews      int64\n",
            "country         object\n",
            "region          object\n",
            "price          float64\n",
            "type            object\n",
            "body           float64\n",
            "acidity        float64\n",
            "dtype: object\n",
            "              year       rating   num_reviews        price         body  \\\n",
            "count  2033.000000  2033.000000   2033.000000  2033.000000  2033.000000   \n",
            "mean   2011.272996     4.402607    575.239547   136.004267     4.226267   \n",
            "std      11.044993     0.146542   1381.146095   273.029742     0.616345   \n",
            "min    1910.000000     4.200000     25.000000     4.990000     2.000000   \n",
            "25%    2010.000000     4.300000     57.000000    32.000000     4.000000   \n",
            "50%    2015.000000     4.400000    140.000000    53.900000     4.000000   \n",
            "75%    2017.000000     4.500000    490.000000   110.000000     5.000000   \n",
            "max    2021.000000     4.900000  32624.000000  3119.080000     5.000000   \n",
            "\n",
            "           acidity  \n",
            "count  2033.000000  \n",
            "mean      2.931136  \n",
            "std       0.314009  \n",
            "min       1.000000  \n",
            "25%       3.000000  \n",
            "50%       3.000000  \n",
            "75%       3.000000  \n",
            "max       3.000000  \n",
            "winery         0\n",
            "wine           0\n",
            "year           0\n",
            "rating         0\n",
            "num_reviews    0\n",
            "country        0\n",
            "region         0\n",
            "price          0\n",
            "type           0\n",
            "body           0\n",
            "acidity        0\n",
            "dtype: int64\n"
          ]
        }
      ]
    },
    {
      "cell_type": "code",
      "source": [
        "#found null values in some of the coulums\n",
        "df['year'] = df['year'].fillna(df['year'].median()).astype(int)\n",
        "df['type'] = df['type'].fillna(\"Unknown\")\n",
        "df['body'] = df['body'].fillna(df['body'].median())\n",
        "df['acidity'] = df['acidity'].fillna(df['acidity'].median())"
      ],
      "metadata": {
        "id": "ewxmiFrKRn__"
      },
      "execution_count": 26,
      "outputs": []
    },
    {
      "cell_type": "code",
      "source": [
        "print(df['year'].unique())\n",
        "#no empty ones"
      ],
      "metadata": {
        "colab": {
          "base_uri": "https://localhost:8080/"
        },
        "id": "tVyzaFdNSVCL",
        "outputId": "12335ed6-4cd2-4161-9ec5-5799a75c249c"
      },
      "execution_count": 27,
      "outputs": [
        {
          "output_type": "stream",
          "name": "stdout",
          "text": [
            "[2013 2018 2009 1999 1996 1998 2010 1995 2015 2011 2016 1970 1946 1962\n",
            " 2019 2004 1931 1979 2005 2020 2014 1985 1929 2007 2012 2017 2008 2006\n",
            " 2000 2003 2002 1991 1994 1990 1989 1987 1986 1981 2001 1968 1964 1982\n",
            " 1974 1983 1955 1980 1972 1953 1958 1942 1965 1992 1973 1997 1967 1975\n",
            " 1910 1961 1954 1988 1969 1951 1928 1976 1949 2021 1959 1922 1978 1925]\n"
          ]
        }
      ]
    },
    {
      "cell_type": "code",
      "source": [
        "print(df.duplicated().sum())"
      ],
      "metadata": {
        "colab": {
          "base_uri": "https://localhost:8080/"
        },
        "id": "whUxlNLxS2Cd",
        "outputId": "e9415a63-0833-4087-95b1-4651a0ffcc24"
      },
      "execution_count": 30,
      "outputs": [
        {
          "output_type": "stream",
          "name": "stdout",
          "text": [
            "0\n"
          ]
        }
      ]
    },
    {
      "cell_type": "code",
      "source": [
        "#removes duplicate rows\n",
        "df = df.drop_duplicates()"
      ],
      "metadata": {
        "id": "5rgXqj3mS9L9"
      },
      "execution_count": 29,
      "outputs": []
    },
    {
      "cell_type": "code",
      "source": [
        "df.isnull().sum()\n",
        "#no null values\n",
        "print(df['year'].unique())\n",
        "print(df['country'].unique())\n",
        "print(df['type'].unique())\n",
        "#checked"
      ],
      "metadata": {
        "colab": {
          "base_uri": "https://localhost:8080/"
        },
        "id": "XFGpCfxoTHOn",
        "outputId": "10b09f98-9938-4b54-ce93-f9a404ede7ae"
      },
      "execution_count": 32,
      "outputs": [
        {
          "output_type": "stream",
          "name": "stdout",
          "text": [
            "[2013 2018 2009 1999 1996 1998 2010 1995 2015 2011 2016 1970 1946 1962\n",
            " 2019 2004 1931 1979 2005 2020 2014 1985 1929 2007 2012 2017 2008 2006\n",
            " 2000 2003 2002 1991 1994 1990 1989 1987 1986 1981 2001 1968 1964 1982\n",
            " 1974 1983 1955 1980 1972 1953 1958 1942 1965 1992 1973 1997 1967 1975\n",
            " 1910 1961 1954 1988 1969 1951 1928 1976 1949 2021 1959 1922 1978 1925]\n",
            "['Espana']\n",
            "['Toro Red' 'Tempranillo' 'Ribera Del Duero Red' 'Pedro Ximenez' 'Red'\n",
            " 'Sherry' 'Priorat Red' 'Rioja Red' 'Rioja White' 'Grenache' 'Unknown'\n",
            " 'Cava' 'Verdejo' 'Syrah' 'Monastrell' 'Mencia' 'Sparkling' 'Montsant Red'\n",
            " 'Albarino' 'Chardonnay' 'Cabernet Sauvignon' 'Sauvignon Blanc']\n"
          ]
        }
      ]
    }
  ]
}