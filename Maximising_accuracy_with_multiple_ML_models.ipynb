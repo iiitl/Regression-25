{
  "nbformat": 4,
  "nbformat_minor": 0,
  "metadata": {
    "colab": {
      "provenance": []
    },
    "kernelspec": {
      "name": "python3",
      "display_name": "Python 3"
    },
    "language_info": {
      "name": "python"
    }
  },
  "cells": [
    {
      "cell_type": "code",
      "execution_count": 1,
      "metadata": {
        "id": "SBJ0BqV7y35_"
      },
      "outputs": [],
      "source": [
        "import numpy as np\n",
        "import pandas as pd\n",
        "import matplotlib.pyplot as plt\n",
        "import seaborn as sns\n",
        "from sklearn.model_selection import train_test_split\n",
        "from sklearn.linear_model import LinearRegression, LogisticRegression\n",
        "from sklearn.tree import DecisionTreeRegressor\n",
        "from sklearn.ensemble import RandomForestRegressor, GradientBoostingRegressor\n",
        "from sklearn.svm import SVR\n",
        "from sklearn.neighbors import KNeighborsRegressor\n",
        "from sklearn.metrics import mean_squared_error, r2_score\n"
      ]
    },
    {
      "cell_type": "code",
      "source": [
        "\n",
        "train_df = pd.read_csv(\"wines_SPA_train.csv\")\n",
        "test_df = pd.read_csv(\"wines_SPA_test.csv\")\n",
        "\n",
        "# DATASETS INFO\n",
        "print(train_df.info())\n",
        "print(train_df.head())\n"
      ],
      "metadata": {
        "colab": {
          "base_uri": "https://localhost:8080/"
        },
        "id": "p1B08UKMzSAd",
        "outputId": "aa67a2a5-7b2c-46f0-891e-acd46220a9c8"
      },
      "execution_count": 2,
      "outputs": [
        {
          "output_type": "stream",
          "name": "stdout",
          "text": [
            "<class 'pandas.core.frame.DataFrame'>\n",
            "RangeIndex: 1062 entries, 0 to 1061\n",
            "Data columns (total 11 columns):\n",
            " #   Column       Non-Null Count  Dtype  \n",
            "---  ------       --------------  -----  \n",
            " 0   winery       1062 non-null   object \n",
            " 1   wine         1062 non-null   object \n",
            " 2   year         1062 non-null   object \n",
            " 3   rating       1062 non-null   float64\n",
            " 4   num_reviews  1062 non-null   float64\n",
            " 5   country      1062 non-null   object \n",
            " 6   region       1062 non-null   object \n",
            " 7   price        1062 non-null   float64\n",
            " 8   type         1062 non-null   object \n",
            " 9   body         1062 non-null   float64\n",
            " 10  acidity      1062 non-null   float64\n",
            "dtypes: float64(5), object(6)\n",
            "memory usage: 91.4+ KB\n",
            "None\n",
            "                winery                   wine  year    rating  num_reviews  \\\n",
            "0  Pago de Carraovejas              El Anejon  2016  1.000000     0.382012   \n",
            "1      Bodegas El Nido                El Nido  2018  1.000000     0.170971   \n",
            "2        La Rioja Alta       Gran Reserva 890  1985  1.000000     0.000890   \n",
            "3  Pago de Carraovejas  Cuesta de Las Liebres  2014  0.833333     0.587711   \n",
            "4  Pago de Carraovejas              El Anejon  2015  0.833333     0.461264   \n",
            "\n",
            "  country            region     price                  type  body  acidity  \n",
            "0  Espana  Ribera del Duero  0.432415  Ribera Del Duero Red   1.0      0.0  \n",
            "1  Espana           Jumilla  0.825027                   Red   0.5      0.0  \n",
            "2  Espana             Rioja  0.910566             Rioja Red   0.5      0.0  \n",
            "3  Espana  Ribera del Duero  0.467260  Ribera Del Duero Red   1.0      0.0  \n",
            "4  Espana  Ribera del Duero  0.302018  Ribera Del Duero Red   1.0      0.0  \n"
          ]
        }
      ]
    },
    {
      "cell_type": "code",
      "source": [
        "# OUR DATA SET WAS ALREADY CLEANED AND PREPROCESSED"
      ],
      "metadata": {
        "id": "rL4WslAlzdMc"
      },
      "execution_count": 3,
      "outputs": []
    },
    {
      "cell_type": "code",
      "source": [
        "# NUMERICAL FEATURES ONLY\n",
        "feature_columns = [\"price\", \"body\", \"num_reviews\", \"acidity\"]\n",
        "target_column = \"rating\"\n",
        "\n",
        "X_train = train_df[feature_columns]\n",
        "y_train = train_df[target_column]\n",
        "\n",
        "X_test = test_df[feature_columns]\n",
        "y_test = test_df[target_column]\n"
      ],
      "metadata": {
        "id": "MONQM3kNzpZM"
      },
      "execution_count": 4,
      "outputs": []
    },
    {
      "cell_type": "code",
      "source": [
        "X_train, X_valid, y_train, y_valid = train_test_split(X_train, y_train, test_size=0.2, random_state=42)\n"
      ],
      "metadata": {
        "id": "UnOHhLB50_yj"
      },
      "execution_count": 5,
      "outputs": []
    },
    {
      "cell_type": "code",
      "source": [
        "# Define models to test\n",
        "models = {\n",
        "    \"Linear Regression\": LinearRegression(),\n",
        "    \"Decision Tree\": DecisionTreeRegressor(),\n",
        "    \"Random Forest\": RandomForestRegressor(n_estimators=100),\n",
        "    \"Support Vector Machine\": SVR(),\n",
        "    \"K-Nearest Neighbors\": KNeighborsRegressor(),\n",
        "    \"Gradient Boosting\": GradientBoostingRegressor()\n",
        "}\n",
        "\n",
        "# Train and evaluate each model\n",
        "results = {}\n",
        "\n",
        "for name, model in models.items():\n",
        "    model.fit(X_train, y_train)  # Train\n",
        "    y_pred = model.predict(X_valid)  # Predict\n",
        "    mse = mean_squared_error(y_valid, y_pred)  # Calculate MSE\n",
        "    r2 = r2_score(y_valid, y_pred)  # R² score\n",
        "    results[name] = {\"MSE\": mse, \"R²\": r2}\n",
        "    print(f\"{name}: MSE = {mse:.4f}, R² = {r2:.4f}\")\n"
      ],
      "metadata": {
        "colab": {
          "base_uri": "https://localhost:8080/"
        },
        "id": "L5xBV4Ne1C-j",
        "outputId": "efd611a8-1db7-4e68-f3a0-a49bcce7ffa6"
      },
      "execution_count": 6,
      "outputs": [
        {
          "output_type": "stream",
          "name": "stdout",
          "text": [
            "Linear Regression: MSE = 0.0333, R² = 0.2568\n",
            "Decision Tree: MSE = 0.0527, R² = -0.1771\n",
            "Random Forest: MSE = 0.0308, R² = 0.3122\n",
            "Support Vector Machine: MSE = 0.0327, R² = 0.2695\n",
            "K-Nearest Neighbors: MSE = 0.0362, R² = 0.1911\n",
            "Gradient Boosting: MSE = 0.0311, R² = 0.3054\n"
          ]
        }
      ]
    },
    {
      "cell_type": "code",
      "source": [
        "\n",
        "results_df = pd.DataFrame(results).T\n",
        "print(results_df.sort_values(by=\"MSE\"))\n"
      ],
      "metadata": {
        "colab": {
          "base_uri": "https://localhost:8080/"
        },
        "id": "OaYjdMwu1Jmi",
        "outputId": "2691bc81-8357-4b79-cb52-7b3aecb72bfb"
      },
      "execution_count": 7,
      "outputs": [
        {
          "output_type": "stream",
          "name": "stdout",
          "text": [
            "                             MSE        R²\n",
            "Random Forest           0.030785  0.312216\n",
            "Gradient Boosting       0.031088  0.305448\n",
            "Support Vector Machine  0.032698  0.269485\n",
            "Linear Regression       0.033264  0.256849\n",
            "K-Nearest Neighbors     0.036208  0.191074\n",
            "Decision Tree           0.052686 -0.177085\n"
          ]
        }
      ]
    },
    {
      "cell_type": "code",
      "source": [
        "best_model = RandomForestRegressor(n_estimators=100)\n",
        "best_model.fit(X_train, y_train)\n",
        "\n",
        "# Predict on the test set\n",
        "y_test_pred = best_model.predict(X_test)\n",
        "\n",
        "# Evaluate on the test set\n",
        "final_mse = mean_squared_error(y_test, y_test_pred)\n",
        "final_r2 = r2_score(y_test, y_test_pred)\n",
        "print(f\"Final Model Test MSE: {final_mse:.4f}, R²: {final_r2:.4f}\")\n"
      ],
      "metadata": {
        "colab": {
          "base_uri": "https://localhost:8080/"
        },
        "id": "-DXrbCaH1ff8",
        "outputId": "f10a0750-9f19-4d80-d8c0-72652aa96ffa"
      },
      "execution_count": 13,
      "outputs": [
        {
          "output_type": "stream",
          "name": "stdout",
          "text": [
            "Final Model Test MSE: 0.0311, R²: 0.1358\n"
          ]
        }
      ]
    },
    {
      "cell_type": "code",
      "source": [
        "# TO work best on unseen data we should select a model with high R2score and less MSE to avoid overfitting"
      ],
      "metadata": {
        "id": "1KYp2Duu1nYN"
      },
      "execution_count": 14,
      "outputs": []
    }
  ]
}