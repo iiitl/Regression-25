{
  "nbformat": 4,
  "nbformat_minor": 0,
  "metadata": {
    "colab": {
      "provenance": []
    },
    "kernelspec": {
      "name": "python3",
      "display_name": "Python 3"
    },
    "language_info": {
      "name": "python"
    }
  },
  "cells": [
    {
      "cell_type": "code",
      "execution_count": 1,
      "metadata": {
        "id": "psRCAPtcz6ap"
      },
      "outputs": [],
      "source": [
        "import numpy as np\n",
        "import pandas as pd\n",
        "import matplotlib.pyplot as plt\n",
        "import plotly.express as px\n",
        "from sklearn.impute import SimpleImputer\n",
        "import random"
      ]
    },
    {
      "cell_type": "code",
      "source": [
        "df=pd.read_csv('/content/wines_SPA.csv')\n",
        "df.info()"
      ],
      "metadata": {
        "colab": {
          "base_uri": "https://localhost:8080/"
        },
        "id": "PDe-Fqc61N8B",
        "outputId": "a0f51439-dcc8-4254-828a-35e969177ee8"
      },
      "execution_count": 12,
      "outputs": [
        {
          "output_type": "stream",
          "name": "stdout",
          "text": [
            "<class 'pandas.core.frame.DataFrame'>\n",
            "RangeIndex: 7500 entries, 0 to 7499\n",
            "Data columns (total 11 columns):\n",
            " #   Column       Non-Null Count  Dtype  \n",
            "---  ------       --------------  -----  \n",
            " 0   winery       7500 non-null   object \n",
            " 1   wine         7500 non-null   object \n",
            " 2   year         7498 non-null   object \n",
            " 3   rating       7500 non-null   float64\n",
            " 4   num_reviews  7500 non-null   int64  \n",
            " 5   country      7500 non-null   object \n",
            " 6   region       7500 non-null   object \n",
            " 7   price        7500 non-null   float64\n",
            " 8   type         6955 non-null   object \n",
            " 9   body         6331 non-null   float64\n",
            " 10  acidity      6331 non-null   float64\n",
            "dtypes: float64(4), int64(1), object(6)\n",
            "memory usage: 644.7+ KB\n"
          ]
        }
      ]
    },
    {
      "cell_type": "code",
      "source": [
        "#function to split the data into testing data and train data.\n",
        "def test_train_split(df,x,y,test_size=0.2):\n",
        "  n=len(df)\n",
        "\n",
        "  test_indices=np.random.choice(n, replace=False, size=int(n*test_size)) #Creating random unique indices\n",
        "\n",
        "  # in the range [0,n-1](both inclusive) to use those indices as the row number which we will use as test data.\n",
        "\n",
        "  test_mask=np.zeros(n,dtype=bool) #Creating a array of size n which stores boolean values.\n",
        "\n",
        "  test_mask[test_indices]=True #Creating a mask where the test data rows' indices are marked as True and others as False.\n",
        "\n",
        "  x_test = df.loc[test_mask,x] #The x_test stores the dataframe which contains the columns of the dataframe df specified in the list x and the rows which are marked as True in the test_mask.\n",
        "\n",
        "  y_test = df.loc[test_mask,y] #The y_test stores the dataframe which contains the columns of the dataframe df specified in the list y and the rows which are marked as True in the test_mask.\n",
        "\n",
        "  x_train = df.loc[~test_mask,x]  #The x_train stores the dataframe which contains the columns of the dataframe df specified in the list x and the rows which are marked as False in the test_mask.\n",
        "\n",
        "  y_train = df.loc[~test_mask,y]  #The y_test stores the dataframe which contains the columns of the dataframe df specified in the list y and the rows which are marked as False in the test_mask.\n",
        "\n",
        "  return x_test,y_test,x_train,y_train\n",
        "\n",
        "test_train_split(df,x=['rating','wine'],y=['price','type'],test_size=0.3)"
      ],
      "metadata": {
        "colab": {
          "base_uri": "https://localhost:8080/"
        },
        "id": "dqQfT0PZ0iFN",
        "outputId": "2ae85d3b-2e3d-4abf-f75b-bfea52bbe3d1"
      },
      "execution_count": 26,
      "outputs": [
        {
          "output_type": "execute_result",
          "data": {
            "text/plain": [
              "(      rating                                wine\n",
              " 5        4.8                               Unico\n",
              " 7        4.8                               Unico\n",
              " 14       4.8           Don PX Convento Seleccion\n",
              " 25       4.8                               Unico\n",
              " 29       4.8      Unico Reserva Especial Edicion\n",
              " ...      ...                                 ...\n",
              " 7482     4.2  Rias Baixas Albarino Finca Valinas\n",
              " 7484     4.2                           Corimbo I\n",
              " 7488     4.2           Candela Cream Dulce Sweet\n",
              " 7492     4.2                            El Viejo\n",
              " 7496     4.2                       Les Brugueres\n",
              " \n",
              " [2250 rows x 2 columns],\n",
              "        price                  type\n",
              " 5     490.00  Ribera Del Duero Red\n",
              " 7     810.89  Ribera Del Duero Red\n",
              " 14    350.00         Pedro Ximenez\n",
              " 25    815.00  Ribera Del Duero Red\n",
              " 29    435.75  Ribera Del Duero Red\n",
              " ...      ...                   ...\n",
              " 7482   16.78              Albarino\n",
              " 7484   37.90  Ribera Del Duero Red\n",
              " 7488    7.10                Sherry\n",
              " 7492   27.89              Toro Red\n",
              " 7496   16.76           Priorat Red\n",
              " \n",
              " [2250 rows x 2 columns],\n",
              "       rating             wine\n",
              " 0        4.9            Tinto\n",
              " 1        4.9    Vina El Pison\n",
              " 2        4.8            Unico\n",
              " 3        4.8            Unico\n",
              " 4        4.8            Unico\n",
              " ...      ...              ...\n",
              " 7494     4.2   Rioja Graciano\n",
              " 7495     4.2          Reserva\n",
              " 7497     4.2  Finca Terrerazo\n",
              " 7498     4.2     Gran Reserva\n",
              " 7499     4.2         Preludio\n",
              " \n",
              " [5250 rows x 2 columns],\n",
              "        price                  type\n",
              " 0     995.00              Toro Red\n",
              " 1     313.50           Tempranillo\n",
              " 2     324.95  Ribera Del Duero Red\n",
              " 3     692.96  Ribera Del Duero Red\n",
              " 4     778.06  Ribera Del Duero Red\n",
              " ...      ...                   ...\n",
              " 7494   61.94             Rioja Red\n",
              " 7495   19.98             Rioja Red\n",
              " 7497   24.45                   Red\n",
              " 7498   64.50  Ribera Del Duero Red\n",
              " 7499   31.63  Ribera Del Duero Red\n",
              " \n",
              " [5250 rows x 2 columns])"
            ]
          },
          "metadata": {},
          "execution_count": 26
        }
      ]
    }
  ]
}