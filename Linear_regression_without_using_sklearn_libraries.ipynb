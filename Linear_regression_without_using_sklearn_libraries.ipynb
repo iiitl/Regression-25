{
  "nbformat": 4,
  "nbformat_minor": 0,
  "metadata": {
    "colab": {
      "provenance": []
    },
    "kernelspec": {
      "name": "python3",
      "display_name": "Python 3"
    },
    "language_info": {
      "name": "python"
    }
  },
  "cells": [
    {
      "cell_type": "code",
      "execution_count": 34,
      "metadata": {
        "id": "kSuTuKNkb3BB"
      },
      "outputs": [],
      "source": [
        "import numpy as np\n",
        "import pandas as pd\n",
        "import matplotlib.pyplot as plt\n",
        "import seaborn as sns"
      ]
    },
    {
      "cell_type": "code",
      "source": [
        "train_df = pd.read_csv(\"wines_SPA_train.csv\")  # LOADING DATASETS THAT I PREVIOUSLY SPLITTED USING HASH PARTITIONING METHOD\n",
        "test_df = pd.read_csv(\"wines_SPA_test.csv\")\n",
        "print(train_df.head())\n",
        "\n"
      ],
      "metadata": {
        "colab": {
          "base_uri": "https://localhost:8080/"
        },
        "id": "w1UIYqgOdecG",
        "outputId": "d8b2e768-27cd-4a97-d2f1-069d66ba5a71"
      },
      "execution_count": 2,
      "outputs": [
        {
          "output_type": "stream",
          "name": "stdout",
          "text": [
            "                winery                   wine  year    rating  num_reviews  \\\n",
            "0  Pago de Carraovejas              El Anejon  2016  1.000000     0.382012   \n",
            "1      Bodegas El Nido                El Nido  2018  1.000000     0.170971   \n",
            "2        La Rioja Alta       Gran Reserva 890  1985  1.000000     0.000890   \n",
            "3  Pago de Carraovejas  Cuesta de Las Liebres  2014  0.833333     0.587711   \n",
            "4  Pago de Carraovejas              El Anejon  2015  0.833333     0.461264   \n",
            "\n",
            "  country            region     price                  type  body  acidity  \n",
            "0  Espana  Ribera del Duero  0.432415  Ribera Del Duero Red   1.0      0.0  \n",
            "1  Espana           Jumilla  0.825027                   Red   0.5      0.0  \n",
            "2  Espana             Rioja  0.910566             Rioja Red   0.5      0.0  \n",
            "3  Espana  Ribera del Duero  0.467260  Ribera Del Duero Red   1.0      0.0  \n",
            "4  Espana  Ribera del Duero  0.302018  Ribera Del Duero Red   1.0      0.0  \n",
            "                winery                       wine  year    rating  \\\n",
            "0  Pago de Carraovejas      Cuesta de Las Liebres  2015  1.000000   \n",
            "1      Bodegas El Nido                    El Nido  2014  0.833333   \n",
            "2   Vinedos de Paganos                   La Nieta  2015  0.833333   \n",
            "3          Emilio Moro  Malleolus de Valderramiro  2016  0.833333   \n",
            "4    Bodegas San Roman     Cartago Paraje de Pozo  2015  0.833333   \n",
            "\n",
            "   num_reviews country            region     price                  type  \\\n",
            "0     0.308994  Espana  Ribera del Duero  0.697245  Ribera Del Duero Red   \n",
            "1     0.432769  Espana           Jumilla  0.648297                   Red   \n",
            "2     0.255565  Espana             Rioja  0.334476             Rioja Red   \n",
            "3     0.244880  Espana  Ribera del Duero  0.344760  Ribera Del Duero Red   \n",
            "4     0.099733  Espana              Toro  0.318507              Toro Red   \n",
            "\n",
            "   body  acidity  \n",
            "0   1.0      0.0  \n",
            "1   0.5      0.0  \n",
            "2   0.5      0.0  \n",
            "3   1.0      0.0  \n",
            "4   1.0      0.0  \n"
          ]
        }
      ]
    },
    {
      "cell_type": "code",
      "source": [
        "print(test_df.head())"
      ],
      "metadata": {
        "colab": {
          "base_uri": "https://localhost:8080/"
        },
        "id": "Bq0SUNvdgJvf",
        "outputId": "4c81136e-4aaf-45e9-e84c-24b67c91063e"
      },
      "execution_count": 11,
      "outputs": [
        {
          "output_type": "stream",
          "name": "stdout",
          "text": [
            "                winery                       wine  year    rating  \\\n",
            "0  Pago de Carraovejas      Cuesta de Las Liebres  2015  1.000000   \n",
            "1      Bodegas El Nido                    El Nido  2014  0.833333   \n",
            "2   Vinedos de Paganos                   La Nieta  2015  0.833333   \n",
            "3          Emilio Moro  Malleolus de Valderramiro  2016  0.833333   \n",
            "4    Bodegas San Roman     Cartago Paraje de Pozo  2015  0.833333   \n",
            "\n",
            "   num_reviews country            region     price                  type  \\\n",
            "0     0.308994  Espana  Ribera del Duero  0.697245  Ribera Del Duero Red   \n",
            "1     0.432769  Espana           Jumilla  0.648297                   Red   \n",
            "2     0.255565  Espana             Rioja  0.334476             Rioja Red   \n",
            "3     0.244880  Espana  Ribera del Duero  0.344760  Ribera Del Duero Red   \n",
            "4     0.099733  Espana              Toro  0.318507              Toro Red   \n",
            "\n",
            "   body  acidity  \n",
            "0   1.0      0.0  \n",
            "1   0.5      0.0  \n",
            "2   0.5      0.0  \n",
            "3   1.0      0.0  \n",
            "4   1.0      0.0  \n"
          ]
        }
      ]
    },
    {
      "cell_type": "code",
      "source": [
        "# Selecting multiple features\n",
        "feature_columns = [\"num_reviews\", \"price\", \"body\", \"acidity\"]  # INPUT COLUMNS\n",
        "target_column = \"rating\"  # OUTPUT COLUMN\n",
        "\n",
        "X_train = train_df[feature_columns].values\n",
        "y_train = train_df[target_column].values\n",
        "\n",
        "X_test = test_df[feature_columns].values\n",
        "y_test = test_df[target_column].values\n"
      ],
      "metadata": {
        "id": "N7LafAfOdstO"
      },
      "execution_count": 45,
      "outputs": []
    },
    {
      "source": [
        "class MeraMLR:          # Works both for MLR and SLR\n",
        "\n",
        "    def __init__(self): #constructor\n",
        "        self.coef_ = None\n",
        "        self.intercept_ = None\n",
        "\n",
        "    def fit(self,X_train,y_train):\n",
        "        X_train = np.insert(X_train,0,1,axis=1) #adding 1's\n",
        "\n",
        "        # calcuate the coeffs\n",
        "        # Use pseudo-inverse instead of the standard inverse\n",
        "        # to handle potential singularity issues.\n",
        "        # betas = np.linalg.inv(X_train.T @ X_train) @ X_train.T @ y_train #formula  <-- Original line causing the error\n",
        "        betas = np.linalg.pinv(X_train.T @ X_train) @ X_train.T @ y_train # Using pseudo-inverse (pinv)\n",
        "        self.intercept_ = betas[0] #all beta nots\n",
        "        self.coef_ = betas[1:]\n",
        "\n",
        "    def predict(self,X_test):\n",
        "        y_pred = np.dot(X_test,self.coef_) + self.intercept_         # y hat=(beta1x1+beta2x2+.....betanxn)+beta not\n",
        "        return y_pred"
      ],
      "cell_type": "code",
      "metadata": {
        "id": "3FDef46pgeaD"
      },
      "execution_count": 48,
      "outputs": []
    },
    {
      "cell_type": "code",
      "source": [
        "mlr = MeraMLR()\n"
      ],
      "metadata": {
        "id": "bBKMOFfGfmSq"
      },
      "execution_count": 50,
      "outputs": []
    },
    {
      "cell_type": "code",
      "source": [
        "mlr.fit(X_train,y_train)"
      ],
      "metadata": {
        "id": "XlIvv6BFnq67"
      },
      "execution_count": 51,
      "outputs": []
    },
    {
      "cell_type": "code",
      "source": [
        "X_train.shape"
      ],
      "metadata": {
        "colab": {
          "base_uri": "https://localhost:8080/"
        },
        "id": "qlhLHVCvgmL_",
        "outputId": "20a117e3-6d09-4009-cf7f-8e0754634200"
      },
      "execution_count": 41,
      "outputs": [
        {
          "output_type": "execute_result",
          "data": {
            "text/plain": [
              "(1062, 4)"
            ]
          },
          "metadata": {},
          "execution_count": 41
        }
      ]
    },
    {
      "cell_type": "code",
      "source": [
        "np.insert(X_train,0,1,axis=1) #with added 1's"
      ],
      "metadata": {
        "colab": {
          "base_uri": "https://localhost:8080/"
        },
        "id": "bWPhPuUqgqAY",
        "outputId": "684737dd-7688-4ff7-e456-770692281b82"
      },
      "execution_count": 52,
      "outputs": [
        {
          "output_type": "execute_result",
          "data": {
            "text/plain": [
              "array([[1.00000000e+00, 3.82012467e-01, 4.32414841e-01, 1.00000000e+00,\n",
              "        0.00000000e+00],\n",
              "       [1.00000000e+00, 1.70970614e-01, 8.25026598e-01, 5.00000000e-01,\n",
              "        0.00000000e+00],\n",
              "       [1.00000000e+00, 8.90471950e-04, 9.10566283e-01, 5.00000000e-01,\n",
              "        0.00000000e+00],\n",
              "       ...,\n",
              "       [1.00000000e+00, 3.26803206e-01, 6.28335865e-02, 5.00000000e-01,\n",
              "        0.00000000e+00],\n",
              "       [1.00000000e+00, 3.25022262e-01, 8.22304187e-02, 5.00000000e-01,\n",
              "        0.00000000e+00],\n",
              "       [1.00000000e+00, 3.19679430e-01, 2.92905186e-01, 5.00000000e-01,\n",
              "        0.00000000e+00]])"
            ]
          },
          "metadata": {},
          "execution_count": 52
        }
      ]
    },
    {
      "cell_type": "code",
      "source": [
        "np.insert(X_train,0,1,axis=1).shape"
      ],
      "metadata": {
        "colab": {
          "base_uri": "https://localhost:8080/"
        },
        "id": "C0GKfDKrgu_Q",
        "outputId": "7eb630c1-1199-48f3-984b-51b23ba8cc0b"
      },
      "execution_count": 53,
      "outputs": [
        {
          "output_type": "execute_result",
          "data": {
            "text/plain": [
              "(1062, 5)"
            ]
          },
          "metadata": {},
          "execution_count": 53
        }
      ]
    },
    {
      "cell_type": "code",
      "source": [
        "y_pred = mlr.predict(X_test)"
      ],
      "metadata": {
        "id": "JFCvEkaOgyXm"
      },
      "execution_count": 58,
      "outputs": []
    },
    {
      "cell_type": "code",
      "source": [
        "from sklearn.metrics import r2_score"
      ],
      "metadata": {
        "id": "rVfByVJVg8YO"
      },
      "execution_count": 59,
      "outputs": []
    },
    {
      "cell_type": "code",
      "source": [
        "r2_score(y_test,y_pred)"
      ],
      "metadata": {
        "colab": {
          "base_uri": "https://localhost:8080/"
        },
        "id": "fQz5boWwg2si",
        "outputId": "617a1ef4-80a3-4927-e686-9d76c01fe7e4"
      },
      "execution_count": 60,
      "outputs": [
        {
          "output_type": "execute_result",
          "data": {
            "text/plain": [
              "0.22169048264670266"
            ]
          },
          "metadata": {},
          "execution_count": 60
        }
      ]
    },
    {
      "cell_type": "code",
      "source": [
        "mlr.coef_       # 4 cols ==> 4 slopes"
      ],
      "metadata": {
        "colab": {
          "base_uri": "https://localhost:8080/"
        },
        "id": "54PbUmmng-ab",
        "outputId": "0cbee161-f72d-4a6e-c723-15c904a6afef"
      },
      "execution_count": 61,
      "outputs": [
        {
          "output_type": "execute_result",
          "data": {
            "text/plain": [
              "array([-0.20099441,  0.39979443,  0.11612137,  0.        ])"
            ]
          },
          "metadata": {},
          "execution_count": 61
        }
      ]
    },
    {
      "cell_type": "code",
      "source": [
        "mlr.intercept_"
      ],
      "metadata": {
        "colab": {
          "base_uri": "https://localhost:8080/"
        },
        "id": "DTSVRbBrhGSv",
        "outputId": "409d6fb0-c09c-43da-974e-2b3504bdb795"
      },
      "execution_count": 62,
      "outputs": [
        {
          "output_type": "execute_result",
          "data": {
            "text/plain": [
              "np.float64(0.16083531841351442)"
            ]
          },
          "metadata": {},
          "execution_count": 62
        }
      ]
    },
    {
      "cell_type": "code",
      "source": [
        "#Working is same as sklearn model"
      ],
      "metadata": {
        "id": "eq_pS69MhNX8"
      },
      "execution_count": 30,
      "outputs": []
    },
    {
      "cell_type": "code",
      "source": [
        "# NOW LETS USE SIMPLE LINEAR REGRESSION ON THE BEST FEATURE..\n",
        "#FIND CORRELATION OF RATING COL WITH OTHERS\n",
        "\n",
        "numeric_train_df = train_df.select_dtypes(include=[np.number])  #ONLY NUMERIC COLUMNS\n",
        "correlation = numeric_train_df.corr()[\"rating\"].drop(\"rating\").sort_values(ascending=False)\n",
        "print(correlation)\n",
        "\n",
        "print(correlation)\n",
        "plt.figure(figsize=(8, 5))\n",
        "sns.heatmap(numeric_train_df.corr(), annot=True, cmap=\"coolwarm\", fmt=\".2f\")\n",
        "plt.title(\"Feature Correlation Heatmap\")\n",
        "plt.show()\n"
      ],
      "metadata": {
        "colab": {
          "base_uri": "https://localhost:8080/",
          "height": 642
        },
        "id": "8ykKRbYIk-fX",
        "outputId": "76d3ad47-6a94-4664-a19b-06bd36ece7bf"
      },
      "execution_count": 35,
      "outputs": [
        {
          "output_type": "stream",
          "name": "stdout",
          "text": [
            "price          0.454117\n",
            "body           0.152240\n",
            "num_reviews   -0.276455\n",
            "acidity             NaN\n",
            "Name: rating, dtype: float64\n",
            "price          0.454117\n",
            "body           0.152240\n",
            "num_reviews   -0.276455\n",
            "acidity             NaN\n",
            "Name: rating, dtype: float64\n"
          ]
        },
        {
          "output_type": "display_data",
          "data": {
            "text/plain": [
              "<Figure size 800x500 with 2 Axes>"
            ],
            "image/png": "[encoded data removed]"
          },
          "metadata": {}
        }
      ]
    },
    {
      "cell_type": "code",
      "source": [
        "class MeraLR:\n",
        "\n",
        "    def __init__(self):             #Constructor\n",
        "        self.m = None\n",
        "        self.b = None\n",
        "\n",
        "    def fit(self,X_train,y_train):\n",
        "\n",
        "        num = 0\n",
        "        den = 0\n",
        "\n",
        "        for i in range(X_train.shape[0]):\n",
        "\n",
        "            num = num + ((X_train[i] - X_train.mean())*(y_train[i] - y_train.mean()))       #(yi-ybar)(xi-xbar) for every student\n",
        "            den = den + ((X_train[i] - X_train.mean())*(X_train[i] - X_train.mean()))\n",
        "\n",
        "        self.m = num/den\n",
        "        self.b = y_train.mean() - (self.m * X_train.mean())       # (ybar- m*xbar) for every student\n",
        "        print(self.m)\n",
        "        print(self.b)\n",
        "\n",
        "    def predict(self,X_test):\n",
        "\n",
        "        print(X_test)\n",
        "\n",
        "        return self.m * X_test + self.b"
      ],
      "metadata": {
        "id": "vn7aUEvemign"
      },
      "execution_count": 36,
      "outputs": []
    },
    {
      "cell_type": "code",
      "source": [
        "lr = MeraLR()"
      ],
      "metadata": {
        "id": "1R52UM1JmtMt"
      },
      "execution_count": 63,
      "outputs": []
    },
    {
      "cell_type": "code",
      "source": [
        "X_train = train_df[feature_columns]\n",
        "X_train=X_train[\"price\"].values"
      ],
      "metadata": {
        "id": "nmJu4Jfan9F7"
      },
      "execution_count": 67,
      "outputs": []
    },
    {
      "cell_type": "code",
      "source": [
        "X_test = test_df[feature_columns]\n",
        "X_test=X_test[\"price\"].values"
      ],
      "metadata": {
        "id": "9-lz56oMp6vd"
      },
      "execution_count": 70,
      "outputs": []
    },
    {
      "cell_type": "code",
      "source": [
        "lr.fit(X_train,y_train) # VALUES OF M AND B"
      ],
      "metadata": {
        "colab": {
          "base_uri": "https://localhost:8080/"
        },
        "id": "LyECBKoyoOq1",
        "outputId": "2a456a7b-27a8-46b6-b9b5-09695501e564"
      },
      "execution_count": 68,
      "outputs": [
        {
          "output_type": "stream",
          "name": "stdout",
          "text": [
            "0.4394242027145819\n",
            "0.18334539894078206\n"
          ]
        }
      ]
    },
    {
      "cell_type": "code",
      "source": [
        "y_pred=[]\n",
        "for i in range(X_test.shape[0]):\n",
        "    y_pred.append(lr.predict(X_test[i]))"
      ],
      "metadata": {
        "colab": {
          "base_uri": "https://localhost:8080/"
        },
        "id": "bQNJas44oWRb",
        "outputId": "c892d9a2-50a7-4422-b951-68da2be01c33"
      },
      "execution_count": 71,
      "outputs": [
        {
          "output_type": "stream",
          "name": "stdout",
          "text": [
            "0.6972445215881969\n",
            "0.64829681058798\n",
            "0.3344760251681493\n",
            "0.3447602516814927\n",
            "0.3185072683879367\n",
            "0.5587329138641787\n",
            "0.3619006292037318\n",
            "0.9828596224777608\n",
            "0.9047515730093296\n",
            "0.8656975482751139\n",
            "0.1928834888262096\n",
            "0.4057279236276849\n",
            "0.279453243653721\n",
            "0.2577565632458234\n",
            "0.1670644391408114\n",
            "0.1931004556302885\n",
            "0.5256671729225428\n",
            "0.3276198741592536\n",
            "0.5011933174224343\n",
            "0.2623128661314819\n",
            "0.1034931655456715\n",
            "0.089824256888696\n",
            "0.8873942286830114\n",
            "0.0282056845302668\n",
            "0.531568669993491\n",
            "0.3449772184855717\n",
            "0.4376220438272944\n",
            "0.4617053590800608\n",
            "0.2796702104578\n",
            "0.1920156216098937\n",
            "0.1397266218268605\n",
            "0.2102408331525276\n",
            "0.1625081362551529\n",
            "0.504833860932558\n",
            "0.4920373182903015\n",
            "0.6248643957474506\n",
            "0.7379908873942286\n",
            "0.8748535474072467\n",
            "0.1909307875894988\n",
            "0.2581904968539813\n",
            "0.3883705793013669\n",
            "0.8136255152961597\n",
            "0.2560208288131916\n",
            "0.2108483402039488\n",
            "0.2955955738771968\n",
            "0.6043827294423952\n",
            "0.3788240399218919\n",
            "0.1883271859405511\n",
            "0.1928834888262096\n",
            "0.968236059882838\n",
            "0.9694076806248644\n",
            "0.5482751139075721\n",
            "0.6200477326968973\n",
            "0.8416142330223475\n",
            "0.3050987198958559\n",
            "0.2451724886092428\n",
            "0.2729701546496988\n",
            "0.3879366456932089\n",
            "0.5187676285528313\n",
            "0.3343458450857018\n",
            "0.1497070948144934\n",
            "0.2603601648947711\n",
            "0.0886092427858537\n",
            "0.0928617921458016\n",
            "0.1149924061618572\n",
            "0.3213278368409633\n",
            "0.8440008678672163\n",
            "0.5983076589281839\n",
            "0.0635712735951399\n",
            "0.657409416359297\n",
            "0.4673464959861141\n",
            "0.4968539813408548\n",
            "0.2332393143848991\n",
            "0.2855283141679323\n",
            "0.8223041874593187\n",
            "0.3017574311130397\n",
            "0.207203297895422\n",
            "0.2929051855066175\n",
            "0.5872895045403861\n",
            "0.3341288782816229\n",
            "0.4530266869169017\n",
            "0.1451507919288349\n",
            "0.2360598828379257\n",
            "0.0949880668257756\n",
            "0.2796702104578\n",
            "0.2039487958342373\n",
            "0.1178129746148839\n",
            "0.1362551529615968\n",
            "0.0928617921458016\n",
            "0.2213061401605554\n",
            "0.2143632024300282\n",
            "0.1236710783250162\n",
            "0.1554350184421783\n",
            "0.4013885875461054\n",
            "0.2178780646561076\n",
            "0.2955087871555651\n",
            "0.1540464308960729\n",
            "0.0668257756563245\n",
            "0.1926665220221306\n",
            "0.1275764807984378\n",
            "0.8895638967238012\n",
            "0.2599262312866132\n",
            "0.1822521154263398\n",
            "0.1058798003905402\n",
            "0.0628769798220872\n",
            "0.1510088956389672\n",
            "0.3080928617921458\n",
            "0.4673464959861141\n",
            "0.1366890865697548\n",
            "0.1896289867650249\n",
            "0.279453243653721\n",
            "0.1364721197656758\n",
            "0.6459969624647429\n",
            "0.1664135387285745\n",
            "0.3185072683879367\n",
            "0.4057279236276849\n",
            "0.2232588413972662\n",
            "0.2596658711217184\n",
            "0.1926665220221306\n",
            "0.1301800824473855\n",
            "0.2017791277934476\n",
            "0.1297461488392276\n",
            "0.3711434150574962\n",
            "0.4794966370145367\n",
            "0.1883271859405511\n",
            "0.2126274679973964\n",
            "0.2056845302668691\n",
            "0.5227598177478845\n",
            "0.2538511607724018\n",
            "0.2273812106747667\n",
            "0.2106747667606856\n",
            "0.1015404643089607\n",
            "0.3430245172488609\n",
            "0.116945107398568\n",
            "0.1275764807984378\n",
            "0.1280104144065958\n",
            "0.2100238663484487\n",
            "0.2078541983076589\n",
            "0.5250596658711216\n",
            "0.4760251681492732\n",
            "0.1232371447168583\n",
            "0.2620958993274029\n",
            "0.0943805597743545\n",
            "0.1913647211976567\n",
            "0.9524842699067042\n",
            "0.170969841614233\n",
            "0.1188978086352788\n",
            "0.3341288782816229\n",
            "0.4925146452592753\n",
            "0.0948144933825125\n",
            "0.1193317422434367\n",
            "0.3731829030158385\n",
            "0.1405944890431764\n",
            "0.4966370145367759\n",
            "0.8844000867867216\n",
            "0.3013668908656975\n",
            "0.062703406378824\n",
            "0.1438923844651768\n",
            "0.053807767411586\n",
            "0.0431495009763506\n",
            "0.1217183770883054\n",
            "0.8005641136906053\n",
            "0.1648947711000217\n",
            "0.1492731612063354\n",
            "0.4940334128878281\n",
            "0.1497070948144934\n",
            "0.1431980906921241\n",
            "0.1415491429811239\n",
            "0.1540464308960729\n",
            "0.173096116294207\n",
            "0.0889563896723801\n",
            "0.1058364070297244\n",
            "0.1410284226513343\n",
            "0.2755478411802994\n",
            "0.0368409633326101\n",
            "0.0466478628769798\n",
            "0.0670427424604035\n",
            "0.0627901931004556\n",
            "0.1210674766760685\n",
            "0.125840746365806\n",
            "0.0710783250162725\n",
            "0.0841831199826426\n",
            "0.0433933608157951\n",
            "0.1757431113039705\n",
            "0.3881536124972879\n",
            "0.0605337383380342\n",
            "0.1004556302885658\n",
            "0.2709915382946409\n",
            "0.0984161423302234\n",
            "0.1234541115209373\n",
            "0.1475374267737036\n",
            "0.279453243653721\n",
            "0.0841831199826426\n",
            "0.0494684313300065\n",
            "0.1536992840095465\n",
            "0.0477326968973747\n",
            "0.1093946626166196\n",
            "0.0857018876111954\n",
            "0.1423302234758082\n",
            "0.1193317422434367\n",
            "0.4096333261011066\n",
            "0.1516597960512042\n",
            "0.4404426122803211\n",
            "0.1164243870687784\n",
            "0.0685615100889564\n",
            "0.1583857669776524\n",
            "0.0776741158602733\n",
            "0.4534606205250597\n",
            "0.0657409416359297\n",
            "0.0859622477760902\n",
            "0.2581904968539813\n",
            "0.3673247993057063\n",
            "0.3753525710566283\n",
            "0.054024734215665\n",
            "0.4436537209806899\n",
            "0.1219353438923844\n",
            "0.3445432848774138\n",
            "0.1599045346062052\n",
            "0.2256020828813191\n",
            "0.1247559123454111\n",
            "0.1960078108049468\n",
            "0.0451290952484269\n",
            "0.1149924061618572\n",
            "0.0824473855500108\n",
            "0.2486439574745064\n",
            "0.1328327497534649\n",
            "0.1579518333694944\n",
            "0.1234541115209373\n",
            "0.3553482317205467\n",
            "0.5185506617487524\n",
            "0.3666738988934693\n",
            "0.1102914587401462\n",
            "0.1453677587329138\n",
            "0.1275764807984378\n",
            "0.0998047298763289\n",
            "0.1319158168800173\n",
            "0.4654371881102191\n",
            "0.5547407246691256\n",
            "0.3141679323063571\n",
            "0.3985680190930787\n",
            "0.2100238663484487\n",
            "0.1668474723367325\n",
            "0.1280104144065958\n",
            "0.0781080494684313\n",
            "0.0976350618355391\n",
            "0.4100672597092645\n",
            "0.1215014102842265\n",
            "0.2059014970709481\n",
            "0.1199826426556736\n",
            "0.6270340637882403\n",
            "0.6053373833803427\n",
            "0.0928617921458016\n",
            "0.162291169451074\n",
            "0.0648730744196138\n",
            "0.1277934476025168\n",
            "0.3228466044695162\n",
            "0.0147537426773703\n",
            "0.0689954436971143\n",
            "0.9212410501193318\n",
            "0.1410284226513343\n",
            "0.2755478411802994\n",
            "0.0412236927750054\n",
            "0.1128227381210675\n",
            "0.1518767628552831\n",
            "0.1273595139943588\n",
            "0.1820351486222608\n",
            "0.2360598828379257\n",
            "0.1128227381210675\n",
            "0.1661965719244955\n",
            "0.305706226947277\n",
            "0.0937730527229333\n",
            "0.053807767411586\n",
            "0.1002386634844868\n",
            "0.171186808418312\n",
            "0.1149924061618572\n",
            "0.0390540247342156\n",
            "0.0880885224560642\n",
            "0.1410284226513343\n",
            "0.2712085050987199\n",
            "0.1277934476025168\n",
            "0.134519418528965\n",
            "0.0711651117379041\n",
            "0.0841831199826426\n",
            "0.2709915382946409\n",
            "0.3011499240616186\n",
            "0.1993924929485789\n",
            "0.026686916901714\n",
            "0.8309828596224778\n",
            "0.3096984161423302\n",
            "0.0963332610110653\n",
            "0.027945324365372\n",
            "0.1779127793447602\n",
            "0.1301800824473855\n",
            "0.0564113690605337\n",
            "0.1360381861575179\n",
            "0.099153829464092\n",
            "0.2970275547841181\n",
            "0.1883271859405511\n",
            "0.4968539813408548\n",
            "0.0587112171837709\n",
            "0.1280104144065958\n",
            "0.3011499240616186\n",
            "0.1831199826426557\n",
            "0.3973530049902364\n",
            "0.1405944890431764\n",
            "0.0147537426773703\n",
            "0.0500759383814276\n",
            "0.0581471034931655\n",
            "0.0267303102625298\n",
            "0.1982642655673681\n",
            "0.1160772401822521\n",
            "0.1388587546105446\n",
            "0.674766760685615\n",
            "0.0\n",
            "0.0759383814276415\n",
            "0.1280104144065958\n",
            "0.0583640702972445\n",
            "0.0603167715339553\n",
            "0.1156866999349099\n",
            "0.125840746365806\n",
            "0.0531568669993491\n",
            "0.0885224560642221\n",
            "0.1232371447168583\n",
            "0.0394879583423736\n",
            "0.5832067693642873\n",
            "0.1844217834671295\n",
            "0.0757214146235625\n",
            "0.0403558255586895\n",
            "0.0702972445215882\n",
            "0.098936862660013\n",
            "0.0489477110002169\n",
            "0.0279887177261878\n",
            "0.062486439574745\n",
            "0.0488609242785853\n",
            "0.2560208288131916\n",
            "0.1133868518116728\n"
          ]
        }
      ]
    },
    {
      "cell_type": "code",
      "source": [
        "from sklearn.metrics import r2_score\n",
        "r2_score(y_test, y_pred)"
      ],
      "metadata": {
        "colab": {
          "base_uri": "https://localhost:8080/"
        },
        "id": "AwVLt8O-qBAo",
        "outputId": "397d52f7-562f-40ba-92d2-80412ea81db1"
      },
      "execution_count": 72,
      "outputs": [
        {
          "output_type": "execute_result",
          "data": {
            "text/plain": [
              "0.16755853921064834"
            ]
          },
          "metadata": {},
          "execution_count": 72
        }
      ]
    },
    {
      "cell_type": "code",
      "source": [
        "#Accuracy is not good as we took only one feature"
      ],
      "metadata": {
        "id": "X_CpSzmQqEUA"
      },
      "execution_count": 73,
      "outputs": []
    }
  ]
}