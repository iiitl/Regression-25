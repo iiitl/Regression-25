{
  "nbformat": 4,
  "nbformat_minor": 0,
  "metadata": {
    "colab": {
      "provenance": []
    },
    "kernelspec": {
      "name": "python3",
      "display_name": "Python 3"
    },
    "language_info": {
      "name": "python"
    }
  },
  "cells": [
    {
      "cell_type": "code",
      "execution_count": 1,
      "metadata": {
        "id": "kSuTuKNkb3BB"
      },
      "outputs": [],
      "source": [
        "import numpy as np\n",
        "import pandas as pd\n",
        "import matplotlib.pyplot as plt\n"
      ]
    },
    {
      "cell_type": "code",
      "source": [
        "train_df = pd.read_csv(\"wines_SPA_train.csv\")  # LOADING DATASETS THAT I PREVIOUSLY SPLITTED USING HASH PARTITIONING METHOD\n",
        "test_df = pd.read_csv(\"wines_SPA_test.csv\")\n",
        "print(train_df.head())\n",
        "\n"
      ],
      "metadata": {
        "colab": {
          "base_uri": "https://localhost:8080/"
        },
        "id": "w1UIYqgOdecG",
        "outputId": "d8b2e768-27cd-4a97-d2f1-069d66ba5a71"
      },
      "execution_count": 2,
      "outputs": [
        {
          "output_type": "stream",
          "name": "stdout",
          "text": [
            "                winery                   wine  year    rating  num_reviews  \\\n",
            "0  Pago de Carraovejas              El Anejon  2016  1.000000     0.382012   \n",
            "1      Bodegas El Nido                El Nido  2018  1.000000     0.170971   \n",
            "2        La Rioja Alta       Gran Reserva 890  1985  1.000000     0.000890   \n",
            "3  Pago de Carraovejas  Cuesta de Las Liebres  2014  0.833333     0.587711   \n",
            "4  Pago de Carraovejas              El Anejon  2015  0.833333     0.461264   \n",
            "\n",
            "  country            region     price                  type  body  acidity  \n",
            "0  Espana  Ribera del Duero  0.432415  Ribera Del Duero Red   1.0      0.0  \n",
            "1  Espana           Jumilla  0.825027                   Red   0.5      0.0  \n",
            "2  Espana             Rioja  0.910566             Rioja Red   0.5      0.0  \n",
            "3  Espana  Ribera del Duero  0.467260  Ribera Del Duero Red   1.0      0.0  \n",
            "4  Espana  Ribera del Duero  0.302018  Ribera Del Duero Red   1.0      0.0  \n",
            "                winery                       wine  year    rating  \\\n",
            "0  Pago de Carraovejas      Cuesta de Las Liebres  2015  1.000000   \n",
            "1      Bodegas El Nido                    El Nido  2014  0.833333   \n",
            "2   Vinedos de Paganos                   La Nieta  2015  0.833333   \n",
            "3          Emilio Moro  Malleolus de Valderramiro  2016  0.833333   \n",
            "4    Bodegas San Roman     Cartago Paraje de Pozo  2015  0.833333   \n",
            "\n",
            "   num_reviews country            region     price                  type  \\\n",
            "0     0.308994  Espana  Ribera del Duero  0.697245  Ribera Del Duero Red   \n",
            "1     0.432769  Espana           Jumilla  0.648297                   Red   \n",
            "2     0.255565  Espana             Rioja  0.334476             Rioja Red   \n",
            "3     0.244880  Espana  Ribera del Duero  0.344760  Ribera Del Duero Red   \n",
            "4     0.099733  Espana              Toro  0.318507              Toro Red   \n",
            "\n",
            "   body  acidity  \n",
            "0   1.0      0.0  \n",
            "1   0.5      0.0  \n",
            "2   0.5      0.0  \n",
            "3   1.0      0.0  \n",
            "4   1.0      0.0  \n"
          ]
        }
      ]
    },
    {
      "cell_type": "code",
      "source": [
        "print(test_df.head())"
      ],
      "metadata": {
        "colab": {
          "base_uri": "https://localhost:8080/"
        },
        "id": "Bq0SUNvdgJvf",
        "outputId": "4c81136e-4aaf-45e9-e84c-24b67c91063e"
      },
      "execution_count": 11,
      "outputs": [
        {
          "output_type": "stream",
          "name": "stdout",
          "text": [
            "                winery                       wine  year    rating  \\\n",
            "0  Pago de Carraovejas      Cuesta de Las Liebres  2015  1.000000   \n",
            "1      Bodegas El Nido                    El Nido  2014  0.833333   \n",
            "2   Vinedos de Paganos                   La Nieta  2015  0.833333   \n",
            "3          Emilio Moro  Malleolus de Valderramiro  2016  0.833333   \n",
            "4    Bodegas San Roman     Cartago Paraje de Pozo  2015  0.833333   \n",
            "\n",
            "   num_reviews country            region     price                  type  \\\n",
            "0     0.308994  Espana  Ribera del Duero  0.697245  Ribera Del Duero Red   \n",
            "1     0.432769  Espana           Jumilla  0.648297                   Red   \n",
            "2     0.255565  Espana             Rioja  0.334476             Rioja Red   \n",
            "3     0.244880  Espana  Ribera del Duero  0.344760  Ribera Del Duero Red   \n",
            "4     0.099733  Espana              Toro  0.318507              Toro Red   \n",
            "\n",
            "   body  acidity  \n",
            "0   1.0      0.0  \n",
            "1   0.5      0.0  \n",
            "2   0.5      0.0  \n",
            "3   1.0      0.0  \n",
            "4   1.0      0.0  \n"
          ]
        }
      ]
    },
    {
      "cell_type": "code",
      "source": [
        "# Selecting multiple features\n",
        "feature_columns = [\"num_reviews\", \"price\", \"body\", \"acidity\"]  # INPUT COLUMNS\n",
        "target_column = \"rating\"  # OUTPUT COLUMN\n",
        "\n",
        "X_train = train_df[feature_columns].values\n",
        "y_train = train_df[target_column].values\n",
        "\n",
        "X_test = test_df[feature_columns].values\n",
        "y_test = test_df[target_column].values\n"
      ],
      "metadata": {
        "id": "N7LafAfOdstO"
      },
      "execution_count": 13,
      "outputs": []
    },
    {
      "cell_type": "code",
      "source": [
        "lr = MeraLR()\n"
      ],
      "metadata": {
        "id": "bBKMOFfGfmSq"
      },
      "execution_count": 17,
      "outputs": []
    },
    {
      "cell_type": "code",
      "source": [
        "lr.fit(X_train,y_train)"
      ],
      "metadata": {
        "id": "WB3DyR8ugRBW"
      },
      "execution_count": 18,
      "outputs": []
    },
    {
      "source": [
        "\n",
        "\n",
        "class MeraLR:          # Works both for MLR and SLR\n",
        "\n",
        "    def __init__(self): #constructor\n",
        "        self.coef_ = None\n",
        "        self.intercept_ = None\n",
        "\n",
        "    def fit(self,X_train,y_train):\n",
        "        X_train = np.insert(X_train,0,1,axis=1) #adding 1's\n",
        "\n",
        "        # calcuate the coeffs\n",
        "        # Use pseudo-inverse instead of the standard inverse\n",
        "        # to handle potential singularity issues.\n",
        "        betas = np.linalg.pinv(np.dot(X_train.T,X_train)).dot(X_train.T).dot(y_train) #formula\n",
        "        self.intercept_ = betas[0] #all beta nots\n",
        "        self.coef_ = betas[1:]\n",
        "\n",
        "    def predict(self,X_test):\n",
        "        y_pred = np.dot(X_test,self.coef_) + self.intercept_         # y hat=(beta1x1+beta2x2+.....betanxn)+beta not\n",
        "        return y_pred"
      ],
      "cell_type": "code",
      "metadata": {
        "id": "3FDef46pgeaD"
      },
      "execution_count": 16,
      "outputs": []
    },
    {
      "cell_type": "code",
      "source": [
        "X_train.shape"
      ],
      "metadata": {
        "colab": {
          "base_uri": "https://localhost:8080/"
        },
        "id": "qlhLHVCvgmL_",
        "outputId": "4f968e58-3e5a-48ab-c153-27b47ea755e9"
      },
      "execution_count": 19,
      "outputs": [
        {
          "output_type": "execute_result",
          "data": {
            "text/plain": [
              "(1062, 4)"
            ]
          },
          "metadata": {},
          "execution_count": 19
        }
      ]
    },
    {
      "cell_type": "code",
      "source": [
        "np.insert(X_train,0,1,axis=1) #with added 1's"
      ],
      "metadata": {
        "colab": {
          "base_uri": "https://localhost:8080/"
        },
        "id": "bWPhPuUqgqAY",
        "outputId": "9a2634ba-6a97-4392-b0ff-754445c7a1af"
      },
      "execution_count": 20,
      "outputs": [
        {
          "output_type": "execute_result",
          "data": {
            "text/plain": [
              "array([[1.00000000e+00, 3.82012467e-01, 4.32414841e-01, 1.00000000e+00,\n",
              "        0.00000000e+00],\n",
              "       [1.00000000e+00, 1.70970614e-01, 8.25026598e-01, 5.00000000e-01,\n",
              "        0.00000000e+00],\n",
              "       [1.00000000e+00, 8.90471950e-04, 9.10566283e-01, 5.00000000e-01,\n",
              "        0.00000000e+00],\n",
              "       ...,\n",
              "       [1.00000000e+00, 3.26803206e-01, 6.28335865e-02, 5.00000000e-01,\n",
              "        0.00000000e+00],\n",
              "       [1.00000000e+00, 3.25022262e-01, 8.22304187e-02, 5.00000000e-01,\n",
              "        0.00000000e+00],\n",
              "       [1.00000000e+00, 3.19679430e-01, 2.92905186e-01, 5.00000000e-01,\n",
              "        0.00000000e+00]])"
            ]
          },
          "metadata": {},
          "execution_count": 20
        }
      ]
    },
    {
      "cell_type": "code",
      "source": [
        "np.insert(X_train,0,1,axis=1).shape"
      ],
      "metadata": {
        "colab": {
          "base_uri": "https://localhost:8080/"
        },
        "id": "C0GKfDKrgu_Q",
        "outputId": "834e84cc-0991-46c0-8eb1-a58743575194"
      },
      "execution_count": 21,
      "outputs": [
        {
          "output_type": "execute_result",
          "data": {
            "text/plain": [
              "(1062, 5)"
            ]
          },
          "metadata": {},
          "execution_count": 21
        }
      ]
    },
    {
      "cell_type": "code",
      "source": [
        "y_pred = lr.predict(X_test)"
      ],
      "metadata": {
        "id": "JFCvEkaOgyXm"
      },
      "execution_count": 22,
      "outputs": []
    },
    {
      "cell_type": "code",
      "source": [
        "from sklearn.metrics import r2_score"
      ],
      "metadata": {
        "id": "rVfByVJVg8YO"
      },
      "execution_count": 24,
      "outputs": []
    },
    {
      "cell_type": "code",
      "source": [
        "r2_score(y_test,y_pred)"
      ],
      "metadata": {
        "colab": {
          "base_uri": "https://localhost:8080/"
        },
        "id": "fQz5boWwg2si",
        "outputId": "9b700eee-e350-451d-d511-c3aa767942d7"
      },
      "execution_count": 25,
      "outputs": [
        {
          "output_type": "execute_result",
          "data": {
            "text/plain": [
              "0.22169048264670266"
            ]
          },
          "metadata": {},
          "execution_count": 25
        }
      ]
    },
    {
      "cell_type": "code",
      "source": [
        "lr.coef_       # 4 cols ==> 4 slopes"
      ],
      "metadata": {
        "colab": {
          "base_uri": "https://localhost:8080/"
        },
        "id": "54PbUmmng-ab",
        "outputId": "b2810141-e3fd-451a-dbe6-106e3c4556c0"
      },
      "execution_count": 28,
      "outputs": [
        {
          "output_type": "execute_result",
          "data": {
            "text/plain": [
              "array([-0.20099441,  0.39979443,  0.11612137,  0.        ])"
            ]
          },
          "metadata": {},
          "execution_count": 28
        }
      ]
    },
    {
      "cell_type": "code",
      "source": [
        "lr.intercept_"
      ],
      "metadata": {
        "colab": {
          "base_uri": "https://localhost:8080/"
        },
        "id": "DTSVRbBrhGSv",
        "outputId": "ead58012-7573-4ead-a488-52b973fdd552"
      },
      "execution_count": 29,
      "outputs": [
        {
          "output_type": "execute_result",
          "data": {
            "text/plain": [
              "np.float64(0.16083531841351442)"
            ]
          },
          "metadata": {},
          "execution_count": 29
        }
      ]
    },
    {
      "cell_type": "code",
      "source": [
        "#Working is same as sklearn model"
      ],
      "metadata": {
        "id": "eq_pS69MhNX8"
      },
      "execution_count": 30,
      "outputs": []
    }
  ]
}