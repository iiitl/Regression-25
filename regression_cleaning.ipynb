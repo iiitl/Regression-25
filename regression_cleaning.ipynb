{
 "cells": [
  {
   "cell_type": "code",
   "execution_count": 40,
   "id": "078d59eb-c186-4700-b0cf-a2c9bd075815",
   "metadata": {},
   "outputs": [],
   "source": [
    "import pandas as pd"
   ]
  },
  {
   "cell_type": "code",
   "execution_count": 41,
   "id": "828ac602-325e-42e2-be30-2529a9e76d64",
   "metadata": {},
   "outputs": [],
   "source": [
    "df = pd.read_csv(\"/Users/parteek/Desktop/ml-regression/Regression-25/wines_SPA.csv\")"
   ]
  },
  {
   "cell_type": "code",
   "execution_count": 42,
   "id": "3ac04386-0fae-4650-84f9-cd20e396ea74",
   "metadata": {},
   "outputs": [
    {
     "data": {
      "text/html": [
       "<div>\n",
       "<style scoped>\n",
       "    .dataframe tbody tr th:only-of-type {\n",
       "        vertical-align: middle;\n",
       "    }\n",
       "\n",
       "    .dataframe tbody tr th {\n",
       "        vertical-align: top;\n",
       "    }\n",
       "\n",
       "    .dataframe thead th {\n",
       "        text-align: right;\n",
       "    }\n",
       "</style>\n",
       "<table border=\"1\" class=\"dataframe\">\n",
       "  <thead>\n",
       "    <tr style=\"text-align: right;\">\n",
       "      <th></th>\n",
       "      <th>winery</th>\n",
       "      <th>wine</th>\n",
       "      <th>year</th>\n",
       "      <th>rating</th>\n",
       "      <th>num_reviews</th>\n",
       "      <th>country</th>\n",
       "      <th>region</th>\n",
       "      <th>price</th>\n",
       "      <th>type</th>\n",
       "      <th>body</th>\n",
       "      <th>acidity</th>\n",
       "    </tr>\n",
       "  </thead>\n",
       "  <tbody>\n",
       "    <tr>\n",
       "      <th>0</th>\n",
       "      <td>Teso La Monja</td>\n",
       "      <td>Tinto</td>\n",
       "      <td>2013</td>\n",
       "      <td>4.9</td>\n",
       "      <td>58</td>\n",
       "      <td>Espana</td>\n",
       "      <td>Toro</td>\n",
       "      <td>995.00</td>\n",
       "      <td>Toro Red</td>\n",
       "      <td>5.0</td>\n",
       "      <td>3.0</td>\n",
       "    </tr>\n",
       "    <tr>\n",
       "      <th>1</th>\n",
       "      <td>Artadi</td>\n",
       "      <td>Vina El Pison</td>\n",
       "      <td>2018</td>\n",
       "      <td>4.9</td>\n",
       "      <td>31</td>\n",
       "      <td>Espana</td>\n",
       "      <td>Vino de Espana</td>\n",
       "      <td>313.50</td>\n",
       "      <td>Tempranillo</td>\n",
       "      <td>4.0</td>\n",
       "      <td>2.0</td>\n",
       "    </tr>\n",
       "    <tr>\n",
       "      <th>2</th>\n",
       "      <td>Vega Sicilia</td>\n",
       "      <td>Unico</td>\n",
       "      <td>2009</td>\n",
       "      <td>4.8</td>\n",
       "      <td>1793</td>\n",
       "      <td>Espana</td>\n",
       "      <td>Ribera del Duero</td>\n",
       "      <td>324.95</td>\n",
       "      <td>Ribera Del Duero Red</td>\n",
       "      <td>5.0</td>\n",
       "      <td>3.0</td>\n",
       "    </tr>\n",
       "    <tr>\n",
       "      <th>3</th>\n",
       "      <td>Vega Sicilia</td>\n",
       "      <td>Unico</td>\n",
       "      <td>1999</td>\n",
       "      <td>4.8</td>\n",
       "      <td>1705</td>\n",
       "      <td>Espana</td>\n",
       "      <td>Ribera del Duero</td>\n",
       "      <td>692.96</td>\n",
       "      <td>Ribera Del Duero Red</td>\n",
       "      <td>5.0</td>\n",
       "      <td>3.0</td>\n",
       "    </tr>\n",
       "    <tr>\n",
       "      <th>4</th>\n",
       "      <td>Vega Sicilia</td>\n",
       "      <td>Unico</td>\n",
       "      <td>1996</td>\n",
       "      <td>4.8</td>\n",
       "      <td>1309</td>\n",
       "      <td>Espana</td>\n",
       "      <td>Ribera del Duero</td>\n",
       "      <td>778.06</td>\n",
       "      <td>Ribera Del Duero Red</td>\n",
       "      <td>5.0</td>\n",
       "      <td>3.0</td>\n",
       "    </tr>\n",
       "  </tbody>\n",
       "</table>\n",
       "</div>"
      ],
      "text/plain": [
       "          winery           wine  year  rating  num_reviews country  \\\n",
       "0  Teso La Monja          Tinto  2013     4.9           58  Espana   \n",
       "1         Artadi  Vina El Pison  2018     4.9           31  Espana   \n",
       "2   Vega Sicilia          Unico  2009     4.8         1793  Espana   \n",
       "3   Vega Sicilia          Unico  1999     4.8         1705  Espana   \n",
       "4   Vega Sicilia          Unico  1996     4.8         1309  Espana   \n",
       "\n",
       "             region   price                  type  body  acidity  \n",
       "0              Toro  995.00              Toro Red   5.0      3.0  \n",
       "1    Vino de Espana  313.50           Tempranillo   4.0      2.0  \n",
       "2  Ribera del Duero  324.95  Ribera Del Duero Red   5.0      3.0  \n",
       "3  Ribera del Duero  692.96  Ribera Del Duero Red   5.0      3.0  \n",
       "4  Ribera del Duero  778.06  Ribera Del Duero Red   5.0      3.0  "
      ]
     },
     "execution_count": 42,
     "metadata": {},
     "output_type": "execute_result"
    }
   ],
   "source": [
    "df.head()"
   ]
  },
  {
   "cell_type": "code",
   "execution_count": 43,
   "id": "7a0cbb01-2bf4-4018-b6c2-8c3e1ade9336",
   "metadata": {},
   "outputs": [
    {
     "data": {
      "text/plain": [
       "(7500, 11)"
      ]
     },
     "execution_count": 43,
     "metadata": {},
     "output_type": "execute_result"
    }
   ],
   "source": [
    "df.shape"
   ]
  },
  {
   "cell_type": "code",
   "execution_count": 44,
   "id": "30a8c60c-0d2e-4922-b1a2-7bac4fef604f",
   "metadata": {},
   "outputs": [
    {
     "data": {
      "text/plain": [
       "5452"
      ]
     },
     "execution_count": 44,
     "metadata": {},
     "output_type": "execute_result"
    }
   ],
   "source": [
    "df.duplicated().sum()"
   ]
  },
  {
   "cell_type": "code",
   "execution_count": 45,
   "id": "63ef9701-3d31-43d6-b6b7-a2316271b2fc",
   "metadata": {},
   "outputs": [
    {
     "data": {
      "text/html": [
       "<div>\n",
       "<style scoped>\n",
       "    .dataframe tbody tr th:only-of-type {\n",
       "        vertical-align: middle;\n",
       "    }\n",
       "\n",
       "    .dataframe tbody tr th {\n",
       "        vertical-align: top;\n",
       "    }\n",
       "\n",
       "    .dataframe thead th {\n",
       "        text-align: right;\n",
       "    }\n",
       "</style>\n",
       "<table border=\"1\" class=\"dataframe\">\n",
       "  <thead>\n",
       "    <tr style=\"text-align: right;\">\n",
       "      <th></th>\n",
       "      <th>winery</th>\n",
       "      <th>wine</th>\n",
       "      <th>year</th>\n",
       "      <th>rating</th>\n",
       "      <th>num_reviews</th>\n",
       "      <th>country</th>\n",
       "      <th>region</th>\n",
       "      <th>price</th>\n",
       "      <th>type</th>\n",
       "      <th>body</th>\n",
       "      <th>acidity</th>\n",
       "    </tr>\n",
       "  </thead>\n",
       "  <tbody>\n",
       "    <tr>\n",
       "      <th>1800</th>\n",
       "      <td>Bodega Tameran</td>\n",
       "      <td>Marmajuelo</td>\n",
       "      <td>2020</td>\n",
       "      <td>4.3</td>\n",
       "      <td>27</td>\n",
       "      <td>Espana</td>\n",
       "      <td>Gran Canaria</td>\n",
       "      <td>29.75</td>\n",
       "      <td>NaN</td>\n",
       "      <td>NaN</td>\n",
       "      <td>NaN</td>\n",
       "    </tr>\n",
       "    <tr>\n",
       "      <th>2036</th>\n",
       "      <td>Ramon do Casar</td>\n",
       "      <td>Treixadura</td>\n",
       "      <td>2020</td>\n",
       "      <td>4.2</td>\n",
       "      <td>407</td>\n",
       "      <td>Espana</td>\n",
       "      <td>Ribeiro</td>\n",
       "      <td>11.95</td>\n",
       "      <td>NaN</td>\n",
       "      <td>NaN</td>\n",
       "      <td>NaN</td>\n",
       "    </tr>\n",
       "    <tr>\n",
       "      <th>2039</th>\n",
       "      <td>Binigrau</td>\n",
       "      <td>Nounat</td>\n",
       "      <td>2020</td>\n",
       "      <td>4.2</td>\n",
       "      <td>404</td>\n",
       "      <td>Espana</td>\n",
       "      <td>Mallorca</td>\n",
       "      <td>19.90</td>\n",
       "      <td>NaN</td>\n",
       "      <td>NaN</td>\n",
       "      <td>NaN</td>\n",
       "    </tr>\n",
       "    <tr>\n",
       "      <th>2050</th>\n",
       "      <td>La Vicalanda</td>\n",
       "      <td>Reserva</td>\n",
       "      <td>2015</td>\n",
       "      <td>4.2</td>\n",
       "      <td>420</td>\n",
       "      <td>Espana</td>\n",
       "      <td>Rioja</td>\n",
       "      <td>17.50</td>\n",
       "      <td>Rioja Red</td>\n",
       "      <td>4.0</td>\n",
       "      <td>3.0</td>\n",
       "    </tr>\n",
       "    <tr>\n",
       "      <th>2051</th>\n",
       "      <td>Enrique Mendoza</td>\n",
       "      <td>Santa Rosa</td>\n",
       "      <td>2017</td>\n",
       "      <td>4.2</td>\n",
       "      <td>420</td>\n",
       "      <td>Espana</td>\n",
       "      <td>Alicante</td>\n",
       "      <td>18.90</td>\n",
       "      <td>Red</td>\n",
       "      <td>4.0</td>\n",
       "      <td>3.0</td>\n",
       "    </tr>\n",
       "  </tbody>\n",
       "</table>\n",
       "</div>"
      ],
      "text/plain": [
       "               winery        wine  year  rating  num_reviews country  \\\n",
       "1800   Bodega Tameran  Marmajuelo  2020     4.3           27  Espana   \n",
       "2036   Ramon do Casar  Treixadura  2020     4.2          407  Espana   \n",
       "2039         Binigrau      Nounat  2020     4.2          404  Espana   \n",
       "2050     La Vicalanda     Reserva  2015     4.2          420  Espana   \n",
       "2051  Enrique Mendoza  Santa Rosa  2017     4.2          420  Espana   \n",
       "\n",
       "            region  price       type  body  acidity  \n",
       "1800  Gran Canaria  29.75        NaN   NaN      NaN  \n",
       "2036       Ribeiro  11.95        NaN   NaN      NaN  \n",
       "2039      Mallorca  19.90        NaN   NaN      NaN  \n",
       "2050         Rioja  17.50  Rioja Red   4.0      3.0  \n",
       "2051      Alicante  18.90        Red   4.0      3.0  "
      ]
     },
     "execution_count": 45,
     "metadata": {},
     "output_type": "execute_result"
    }
   ],
   "source": [
    "df[df.duplicated()].head()"
   ]
  },
  {
   "cell_type": "code",
   "execution_count": 46,
   "id": "b3005ba0-e7df-47da-83f7-786942317879",
   "metadata": {},
   "outputs": [],
   "source": [
    "# droping the duplicate rows.\n",
    "df.drop_duplicates(inplace=True)"
   ]
  },
  {
   "cell_type": "code",
   "execution_count": 47,
   "id": "a5315a12-f268-4eca-b457-4be39d4b73b1",
   "metadata": {},
   "outputs": [
    {
     "data": {
      "text/plain": [
       "(2048, 11)"
      ]
     },
     "execution_count": 47,
     "metadata": {},
     "output_type": "execute_result"
    }
   ],
   "source": [
    "df.shape"
   ]
  },
  {
   "cell_type": "code",
   "execution_count": 48,
   "id": "e191f71e-1403-4e05-a51d-d436642f1ba9",
   "metadata": {},
   "outputs": [
    {
     "data": {
      "text/plain": [
       "winery           0\n",
       "wine             0\n",
       "year             2\n",
       "rating           0\n",
       "num_reviews      0\n",
       "country          0\n",
       "region           0\n",
       "price            0\n",
       "type           106\n",
       "body           271\n",
       "acidity        271\n",
       "dtype: int64"
      ]
     },
     "execution_count": 48,
     "metadata": {},
     "output_type": "execute_result"
    }
   ],
   "source": [
    "df.isnull().sum()"
   ]
  },
  {
   "cell_type": "code",
   "execution_count": 49,
   "id": "08d5f076-8920-4016-bdad-e3a6475e5867",
   "metadata": {},
   "outputs": [
    {
     "data": {
      "text/plain": [
       "winery          object\n",
       "wine            object\n",
       "year            object\n",
       "rating         float64\n",
       "num_reviews      int64\n",
       "country         object\n",
       "region          object\n",
       "price          float64\n",
       "type            object\n",
       "body           float64\n",
       "acidity        float64\n",
       "dtype: object"
      ]
     },
     "execution_count": 49,
     "metadata": {},
     "output_type": "execute_result"
    }
   ],
   "source": [
    "df.dtypes"
   ]
  },
  {
   "cell_type": "code",
   "execution_count": 50,
   "id": "7b52a6dc-ebbc-4b34-b06d-e2bdeeba4c12",
   "metadata": {},
   "outputs": [],
   "source": [
    "# converting year(object) to year(int64) so that median imutation can be used here.\n",
    "df['year'] = pd.to_numeric(df['year'], errors='coerce')"
   ]
  },
  {
   "cell_type": "code",
   "execution_count": 51,
   "id": "30f65baf-416d-4829-9bfe-ae200cd31fed",
   "metadata": {},
   "outputs": [],
   "source": [
    "# for object (categorical) \"type\" we can use mode imputation-\n",
    "mode_value = df['type'].mode()[0]\n",
    "df['type'] = df['type'].fillna(mode_value)"
   ]
  },
  {
   "cell_type": "code",
   "execution_count": 52,
   "id": "c1beca5d-7008-4d74-83bb-b39575d5fec6",
   "metadata": {},
   "outputs": [],
   "source": [
    "# for int or float median imputation is used .\n",
    "cols = ['year','body','acidity']\n",
    "for col in cols:\n",
    "    df[col] = df[col].fillna(df[col].median())"
   ]
  },
  {
   "cell_type": "code",
   "execution_count": 53,
   "id": "784944b3-9d08-497a-8778-f1be042a746b",
   "metadata": {},
   "outputs": [
    {
     "data": {
      "text/plain": [
       "winery         0\n",
       "wine           0\n",
       "year           0\n",
       "rating         0\n",
       "num_reviews    0\n",
       "country        0\n",
       "region         0\n",
       "price          0\n",
       "type           0\n",
       "body           0\n",
       "acidity        0\n",
       "dtype: int64"
      ]
     },
     "execution_count": 53,
     "metadata": {},
     "output_type": "execute_result"
    }
   ],
   "source": [
    "df.isnull().sum()"
   ]
  },
  {
   "cell_type": "code",
   "execution_count": null,
   "id": "a3bbf4b5-996b-44b0-950f-c96771fb9851",
   "metadata": {},
   "outputs": [],
   "source": [
    "df.to_csv('cleaned_data.csv', index=False)"
   ]
  }
 ],
 "metadata": {
  "kernelspec": {
   "display_name": "Python [conda env:base] *",
   "language": "python",
   "name": "conda-base-py"
  },
  "language_info": {
   "codemirror_mode": {
    "name": "ipython",
    "version": 3
   },
   "file_extension": ".py",
   "mimetype": "text/x-python",
   "name": "python",
   "nbconvert_exporter": "python",
   "pygments_lexer": "ipython3",
   "version": "3.12.7"
  }
 },
 "nbformat": 4,
 "nbformat_minor": 5
}
